{
 "cells": [
  {
   "cell_type": "code",
   "execution_count": 1,
   "id": "861390b5",
   "metadata": {},
   "outputs": [],
   "source": [
    "%load_ext autoreload\n",
    "%autoreload 2\n",
    "from optimizers import Nesterov_Optimizers\n",
    "\n",
    "import numpy as np\n",
    "from sklearn import datasets\n",
    "from sklearn.model_selection import train_test_split\n",
    "import test_functions \n",
    "import random"
   ]
  },
  {
   "cell_type": "markdown",
   "id": "3d65584c",
   "metadata": {},
   "source": [
    "Maximal number of iterations is currently set to 2500, the stopping criterion is that the current estimation-previous estimation has a 2nd norm not bigger than 1e-3."
   ]
  },
  {
   "cell_type": "markdown",
   "id": "0e3e160e",
   "metadata": {},
   "source": [
    "### Problem 1"
   ]
  },
  {
   "cell_type": "code",
   "execution_count": 2,
   "id": "1d5c7857",
   "metadata": {},
   "outputs": [],
   "source": [
    "n_samples=4000\n",
    "n_features=1000\n",
    "n_informative=100\n",
    "X, y, coef = datasets.make_regression(n_samples = n_samples,#number of samples\n",
    "                                      n_features = n_features,#number of features\n",
    "                                      n_informative = n_informative,#number of useful features\n",
    "                                      noise = random.randint(5, 20),#bias and standard deviation of the guassian noise\n",
    "                                      coef = True #true coefficient used to generated the data\n",
    "                                     )\n",
    "X_train, X_test, y_train, y_test = train_test_split(X,y,test_size=0.3)"
   ]
  },
  {
   "cell_type": "code",
   "execution_count": 3,
   "id": "78e729a2",
   "metadata": {
    "scrolled": true
   },
   "outputs": [
    {
     "name": "stdout",
     "output_type": "stream",
     "text": [
      "accelerated  simple stopping at  134\n"
     ]
    },
    {
     "data": {
      "text/html": [
       "<div>\n",
       "<style scoped>\n",
       "    .dataframe tbody tr th:only-of-type {\n",
       "        vertical-align: middle;\n",
       "    }\n",
       "\n",
       "    .dataframe tbody tr th {\n",
       "        vertical-align: top;\n",
       "    }\n",
       "\n",
       "    .dataframe thead th {\n",
       "        text-align: right;\n",
       "    }\n",
       "</style>\n",
       "<table border=\"1\" class=\"dataframe\">\n",
       "  <thead>\n",
       "    <tr style=\"text-align: right;\">\n",
       "      <th></th>\n",
       "      <th>RMSE</th>\n",
       "      <th>MAE</th>\n",
       "      <th>MAE_perc</th>\n",
       "    </tr>\n",
       "  </thead>\n",
       "  <tbody>\n",
       "    <tr>\n",
       "      <th>accelerated</th>\n",
       "      <td>25.949980</td>\n",
       "      <td>20.620461</td>\n",
       "      <td>0.222671</td>\n",
       "    </tr>\n",
       "    <tr>\n",
       "      <th>gradient</th>\n",
       "      <td>139.861738</td>\n",
       "      <td>111.565207</td>\n",
       "      <td>1.547648</td>\n",
       "    </tr>\n",
       "    <tr>\n",
       "      <th>dual_gradient</th>\n",
       "      <td>139.861222</td>\n",
       "      <td>111.564588</td>\n",
       "      <td>1.547559</td>\n",
       "    </tr>\n",
       "    <tr>\n",
       "      <th>lasso</th>\n",
       "      <td>23.320543</td>\n",
       "      <td>18.591805</td>\n",
       "      <td>0.368390</td>\n",
       "    </tr>\n",
       "  </tbody>\n",
       "</table>\n",
       "</div>"
      ],
      "text/plain": [
       "                     RMSE         MAE  MAE_perc\n",
       "accelerated     25.949980   20.620461  0.222671\n",
       "gradient       139.861738  111.565207  1.547648\n",
       "dual_gradient  139.861222  111.564588  1.547559\n",
       "lasso           23.320543   18.591805  0.368390"
      ]
     },
     "execution_count": 3,
     "metadata": {},
     "output_type": "execute_result"
    }
   ],
   "source": [
    "models_tested=test_functions.test_models(X_train,y_train)\n",
    "test_functions.models_quality(X_test,y_test,models_tested)"
   ]
  },
  {
   "cell_type": "markdown",
   "id": "00a6b07e",
   "metadata": {},
   "source": [
    "### Problem 2"
   ]
  },
  {
   "cell_type": "code",
   "execution_count": 4,
   "id": "7857f7b1",
   "metadata": {},
   "outputs": [],
   "source": [
    "n_samples=5000\n",
    "n_features=500\n",
    "n_informative=100\n",
    "X, y, coef = datasets.make_regression(n_samples = n_samples,#number of samples\n",
    "                                      n_features = n_features,#number of features\n",
    "                                      n_informative = n_informative,#number of useful features\n",
    "                                      noise = random.randint(5, 20),#bias and standard deviation of the guassian noise\n",
    "                                      coef = True #true coefficient used to generated the data\n",
    "                                      )\n",
    "X_train, X_test, y_train, y_test = train_test_split(X,y,test_size=0.3)"
   ]
  },
  {
   "cell_type": "code",
   "execution_count": 5,
   "id": "7323db60",
   "metadata": {},
   "outputs": [
    {
     "name": "stdout",
     "output_type": "stream",
     "text": [
      "accelerated  simple stopping at  50\n"
     ]
    },
    {
     "data": {
      "text/html": [
       "<div>\n",
       "<style scoped>\n",
       "    .dataframe tbody tr th:only-of-type {\n",
       "        vertical-align: middle;\n",
       "    }\n",
       "\n",
       "    .dataframe tbody tr th {\n",
       "        vertical-align: top;\n",
       "    }\n",
       "\n",
       "    .dataframe thead th {\n",
       "        text-align: right;\n",
       "    }\n",
       "</style>\n",
       "<table border=\"1\" class=\"dataframe\">\n",
       "  <thead>\n",
       "    <tr style=\"text-align: right;\">\n",
       "      <th></th>\n",
       "      <th>RMSE</th>\n",
       "      <th>MAE</th>\n",
       "      <th>MAE_perc</th>\n",
       "    </tr>\n",
       "  </thead>\n",
       "  <tbody>\n",
       "    <tr>\n",
       "      <th>accelerated</th>\n",
       "      <td>5.383841</td>\n",
       "      <td>4.311225</td>\n",
       "      <td>0.039474</td>\n",
       "    </tr>\n",
       "    <tr>\n",
       "      <th>gradient</th>\n",
       "      <td>23.515781</td>\n",
       "      <td>18.598081</td>\n",
       "      <td>0.150515</td>\n",
       "    </tr>\n",
       "    <tr>\n",
       "      <th>dual_gradient</th>\n",
       "      <td>23.515412</td>\n",
       "      <td>18.597876</td>\n",
       "      <td>0.150524</td>\n",
       "    </tr>\n",
       "    <tr>\n",
       "      <th>lasso</th>\n",
       "      <td>11.882959</td>\n",
       "      <td>9.524158</td>\n",
       "      <td>0.057282</td>\n",
       "    </tr>\n",
       "  </tbody>\n",
       "</table>\n",
       "</div>"
      ],
      "text/plain": [
       "                    RMSE        MAE  MAE_perc\n",
       "accelerated     5.383841   4.311225  0.039474\n",
       "gradient       23.515781  18.598081  0.150515\n",
       "dual_gradient  23.515412  18.597876  0.150524\n",
       "lasso          11.882959   9.524158  0.057282"
      ]
     },
     "execution_count": 5,
     "metadata": {},
     "output_type": "execute_result"
    }
   ],
   "source": [
    "models_tested=test_functions.test_models(X_train,y_train)\n",
    "test_functions.models_quality(X_test,y_test,models_tested)"
   ]
  },
  {
   "cell_type": "markdown",
   "id": "d9f3075d",
   "metadata": {},
   "source": [
    "### Problem 3"
   ]
  },
  {
   "cell_type": "code",
   "execution_count": 6,
   "id": "fc51e86c",
   "metadata": {},
   "outputs": [],
   "source": [
    "n_samples=500\n",
    "n_features=50\n",
    "n_informative=25\n",
    "X, y, coef = datasets.make_regression(n_samples = n_samples,#number of samples\n",
    "                                      n_features = n_features,#number of features\n",
    "                                      n_informative = n_informative,#number of useful features\n",
    "                                      noise = random.randint(5, 20),#bias and standard deviation of the guassian noise\n",
    "                                      coef = True #true coefficient used to generated the data\n",
    "                                      )\n",
    "X_train, X_test, y_train, y_test = train_test_split(X,y,test_size=0.3)"
   ]
  },
  {
   "cell_type": "code",
   "execution_count": 7,
   "id": "624f89a0",
   "metadata": {},
   "outputs": [
    {
     "name": "stdout",
     "output_type": "stream",
     "text": [
      "gradient  simple stopping at  824\n",
      "dual_gradient  simple stopping at  820\n"
     ]
    },
    {
     "data": {
      "text/html": [
       "<div>\n",
       "<style scoped>\n",
       "    .dataframe tbody tr th:only-of-type {\n",
       "        vertical-align: middle;\n",
       "    }\n",
       "\n",
       "    .dataframe tbody tr th {\n",
       "        vertical-align: top;\n",
       "    }\n",
       "\n",
       "    .dataframe thead th {\n",
       "        text-align: right;\n",
       "    }\n",
       "</style>\n",
       "<table border=\"1\" class=\"dataframe\">\n",
       "  <thead>\n",
       "    <tr style=\"text-align: right;\">\n",
       "      <th></th>\n",
       "      <th>RMSE</th>\n",
       "      <th>MAE</th>\n",
       "      <th>MAE_perc</th>\n",
       "    </tr>\n",
       "  </thead>\n",
       "  <tbody>\n",
       "    <tr>\n",
       "      <th>accelerated</th>\n",
       "      <td>14.557728</td>\n",
       "      <td>11.465257</td>\n",
       "      <td>0.263757</td>\n",
       "    </tr>\n",
       "    <tr>\n",
       "      <th>gradient</th>\n",
       "      <td>14.539956</td>\n",
       "      <td>11.454356</td>\n",
       "      <td>0.262583</td>\n",
       "    </tr>\n",
       "    <tr>\n",
       "      <th>dual_gradient</th>\n",
       "      <td>14.536198</td>\n",
       "      <td>11.449091</td>\n",
       "      <td>0.262785</td>\n",
       "    </tr>\n",
       "    <tr>\n",
       "      <th>lasso</th>\n",
       "      <td>15.070211</td>\n",
       "      <td>12.016564</td>\n",
       "      <td>0.241539</td>\n",
       "    </tr>\n",
       "  </tbody>\n",
       "</table>\n",
       "</div>"
      ],
      "text/plain": [
       "                    RMSE        MAE  MAE_perc\n",
       "accelerated    14.557728  11.465257  0.263757\n",
       "gradient       14.539956  11.454356  0.262583\n",
       "dual_gradient  14.536198  11.449091  0.262785\n",
       "lasso          15.070211  12.016564  0.241539"
      ]
     },
     "execution_count": 7,
     "metadata": {},
     "output_type": "execute_result"
    }
   ],
   "source": [
    "models_tested=test_functions.test_models(X_train,y_train)\n",
    "test_functions.models_quality(X_test,y_test,models_tested)"
   ]
  },
  {
   "cell_type": "markdown",
   "id": "a01d7e75",
   "metadata": {},
   "source": [
    "### Problem 4"
   ]
  },
  {
   "cell_type": "code",
   "execution_count": 8,
   "id": "db05323e",
   "metadata": {},
   "outputs": [],
   "source": [
    "n_samples=1000\n",
    "n_features=100\n",
    "n_informative=50\n",
    "X, y, coef = datasets.make_regression(n_samples = n_samples,#number of samples\n",
    "                                      n_features = n_features,#number of features\n",
    "                                      n_informative = n_informative,#number of useful features\n",
    "                                      noise = random.randint(5, 20),#bias and standard deviation of the guassian noise\n",
    "                                      coef = True #true coefficient used to generated the data\n",
    "                                      )\n",
    "X_train, X_test, y_train, y_test = train_test_split(X,y,test_size=0.3)"
   ]
  },
  {
   "cell_type": "code",
   "execution_count": 9,
   "id": "370bc75e",
   "metadata": {},
   "outputs": [
    {
     "name": "stdout",
     "output_type": "stream",
     "text": [
      "accelerated  simple stopping at  1253\n",
      "gradient  simple stopping at  1321\n",
      "dual_gradient  simple stopping at  1326\n"
     ]
    },
    {
     "data": {
      "text/html": [
       "<div>\n",
       "<style scoped>\n",
       "    .dataframe tbody tr th:only-of-type {\n",
       "        vertical-align: middle;\n",
       "    }\n",
       "\n",
       "    .dataframe tbody tr th {\n",
       "        vertical-align: top;\n",
       "    }\n",
       "\n",
       "    .dataframe thead th {\n",
       "        text-align: right;\n",
       "    }\n",
       "</style>\n",
       "<table border=\"1\" class=\"dataframe\">\n",
       "  <thead>\n",
       "    <tr style=\"text-align: right;\">\n",
       "      <th></th>\n",
       "      <th>RMSE</th>\n",
       "      <th>MAE</th>\n",
       "      <th>MAE_perc</th>\n",
       "    </tr>\n",
       "  </thead>\n",
       "  <tbody>\n",
       "    <tr>\n",
       "      <th>accelerated</th>\n",
       "      <td>12.821894</td>\n",
       "      <td>10.333625</td>\n",
       "      <td>0.098833</td>\n",
       "    </tr>\n",
       "    <tr>\n",
       "      <th>gradient</th>\n",
       "      <td>12.794836</td>\n",
       "      <td>10.306505</td>\n",
       "      <td>0.098027</td>\n",
       "    </tr>\n",
       "    <tr>\n",
       "      <th>dual_gradient</th>\n",
       "      <td>12.794980</td>\n",
       "      <td>10.306572</td>\n",
       "      <td>0.098051</td>\n",
       "    </tr>\n",
       "    <tr>\n",
       "      <th>lasso</th>\n",
       "      <td>13.943815</td>\n",
       "      <td>11.219515</td>\n",
       "      <td>0.078488</td>\n",
       "    </tr>\n",
       "  </tbody>\n",
       "</table>\n",
       "</div>"
      ],
      "text/plain": [
       "                    RMSE        MAE  MAE_perc\n",
       "accelerated    12.821894  10.333625  0.098833\n",
       "gradient       12.794836  10.306505  0.098027\n",
       "dual_gradient  12.794980  10.306572  0.098051\n",
       "lasso          13.943815  11.219515  0.078488"
      ]
     },
     "execution_count": 9,
     "metadata": {},
     "output_type": "execute_result"
    }
   ],
   "source": [
    "models_tested=test_functions.test_models(X_train,y_train)\n",
    "test_functions.models_quality(X_test,y_test,models_tested)"
   ]
  }
 ],
 "metadata": {
  "kernelspec": {
   "display_name": "Python 3",
   "language": "python",
   "name": "python3"
  },
  "language_info": {
   "codemirror_mode": {
    "name": "ipython",
    "version": 3
   },
   "file_extension": ".py",
   "mimetype": "text/x-python",
   "name": "python",
   "nbconvert_exporter": "python",
   "pygments_lexer": "ipython3",
   "version": "3.8.8"
  }
 },
 "nbformat": 4,
 "nbformat_minor": 5
}
