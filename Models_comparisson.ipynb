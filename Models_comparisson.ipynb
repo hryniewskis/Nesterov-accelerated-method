{
 "cells": [
  {
   "cell_type": "code",
   "execution_count": 1,
   "id": "e537ca9c",
   "metadata": {},
   "outputs": [],
   "source": [
    "%load_ext autoreload\n",
    "%autoreload 2\n",
    "from optimizers import Nesterov_Optimizers\n",
    "\n",
    "import numpy as np\n",
    "from sklearn import datasets\n",
    "from sklearn.model_selection import train_test_split\n",
    "import test_functions \n",
    "import random"
   ]
  },
  {
   "cell_type": "markdown",
   "id": "23d114e3",
   "metadata": {},
   "source": [
    "Maximal number of iterations is currently set to 2500, the stopping criterion is from the paper"
   ]
  },
  {
   "cell_type": "markdown",
   "id": "244becfd",
   "metadata": {},
   "source": [
    "### Problem 1"
   ]
  },
  {
   "cell_type": "code",
   "execution_count": 11,
   "id": "fc0a6a25",
   "metadata": {},
   "outputs": [],
   "source": [
    "n_samples=4000\n",
    "n_features=1000\n",
    "n_informative=100\n",
    "X, y, coef = datasets.make_regression(n_samples = n_samples,#number of samples\n",
    "                                      n_features = n_features,#number of features\n",
    "                                      n_informative = n_informative,#number of useful features\n",
    "                                      noise = 10,#bias and standard deviation of the guassian noise\n",
    "                                      coef = True #true coefficient used to generated the data\n",
    "                                     )\n",
    "X_train, X_test, y_train, y_test = train_test_split(X,y,test_size=0.3)"
   ]
  },
  {
   "cell_type": "code",
   "execution_count": 12,
   "id": "5bb64899",
   "metadata": {
    "scrolled": true
   },
   "outputs": [
    {
     "name": "stdout",
     "output_type": "stream",
     "text": [
      "accelerated  early stopping at  92\n"
     ]
    },
    {
     "data": {
      "text/html": [
       "<div>\n",
       "<style scoped>\n",
       "    .dataframe tbody tr th:only-of-type {\n",
       "        vertical-align: middle;\n",
       "    }\n",
       "\n",
       "    .dataframe tbody tr th {\n",
       "        vertical-align: top;\n",
       "    }\n",
       "\n",
       "    .dataframe thead th {\n",
       "        text-align: right;\n",
       "    }\n",
       "</style>\n",
       "<table border=\"1\" class=\"dataframe\">\n",
       "  <thead>\n",
       "    <tr style=\"text-align: right;\">\n",
       "      <th></th>\n",
       "      <th>RMSE</th>\n",
       "      <th>MAE</th>\n",
       "      <th>MAE_perc</th>\n",
       "    </tr>\n",
       "  </thead>\n",
       "  <tbody>\n",
       "    <tr>\n",
       "      <th>accelerated</th>\n",
       "      <td>14.874822</td>\n",
       "      <td>11.865110</td>\n",
       "      <td>0.085152</td>\n",
       "    </tr>\n",
       "    <tr>\n",
       "      <th>gradient</th>\n",
       "      <td>37.392483</td>\n",
       "      <td>30.038929</td>\n",
       "      <td>0.161820</td>\n",
       "    </tr>\n",
       "    <tr>\n",
       "      <th>dual_gradient</th>\n",
       "      <td>37.483716</td>\n",
       "      <td>30.073557</td>\n",
       "      <td>0.160855</td>\n",
       "    </tr>\n",
       "    <tr>\n",
       "      <th>lasso</th>\n",
       "      <td>14.887257</td>\n",
       "      <td>11.873283</td>\n",
       "      <td>0.085007</td>\n",
       "    </tr>\n",
       "  </tbody>\n",
       "</table>\n",
       "</div>"
      ],
      "text/plain": [
       "                    RMSE        MAE  MAE_perc\n",
       "accelerated    14.874822  11.865110  0.085152\n",
       "gradient       37.392483  30.038929  0.161820\n",
       "dual_gradient  37.483716  30.073557  0.160855\n",
       "lasso          14.887257  11.873283  0.085007"
      ]
     },
     "execution_count": 12,
     "metadata": {},
     "output_type": "execute_result"
    }
   ],
   "source": [
    "models_tested=test_functions.test_models(X_train,y_train)\n",
    "test_functions.models_quality(X_test,y_test,models_tested)"
   ]
  },
  {
   "cell_type": "markdown",
   "id": "fe29f025",
   "metadata": {},
   "source": [
    "### Problem 2"
   ]
  },
  {
   "cell_type": "code",
   "execution_count": 4,
   "id": "614aac6f",
   "metadata": {},
   "outputs": [],
   "source": [
    "n_samples=5000\n",
    "n_features=500\n",
    "n_informative=100\n",
    "X, y, coef = datasets.make_regression(n_samples = n_samples,#number of samples\n",
    "                                      n_features = n_features,#number of features\n",
    "                                      n_informative = n_informative,#number of useful features\n",
    "                                      noise = 10,#bias and standard deviation of the guassian noise\n",
    "                                      coef = True #true coefficient used to generated the data\n",
    "                                      )\n",
    "X_train, X_test, y_train, y_test = train_test_split(X,y,test_size=0.3)"
   ]
  },
  {
   "cell_type": "code",
   "execution_count": 5,
   "id": "32874129",
   "metadata": {},
   "outputs": [
    {
     "name": "stdout",
     "output_type": "stream",
     "text": [
      "accelerated  early stopping at  60\n"
     ]
    },
    {
     "data": {
      "text/html": [
       "<div>\n",
       "<style scoped>\n",
       "    .dataframe tbody tr th:only-of-type {\n",
       "        vertical-align: middle;\n",
       "    }\n",
       "\n",
       "    .dataframe tbody tr th {\n",
       "        vertical-align: top;\n",
       "    }\n",
       "\n",
       "    .dataframe thead th {\n",
       "        text-align: right;\n",
       "    }\n",
       "</style>\n",
       "<table border=\"1\" class=\"dataframe\">\n",
       "  <thead>\n",
       "    <tr style=\"text-align: right;\">\n",
       "      <th></th>\n",
       "      <th>RMSE</th>\n",
       "      <th>MAE</th>\n",
       "      <th>MAE_perc</th>\n",
       "    </tr>\n",
       "  </thead>\n",
       "  <tbody>\n",
       "    <tr>\n",
       "      <th>accelerated</th>\n",
       "      <td>14.934496</td>\n",
       "      <td>11.826295</td>\n",
       "      <td>0.098547</td>\n",
       "    </tr>\n",
       "    <tr>\n",
       "      <th>gradient</th>\n",
       "      <td>15.060824</td>\n",
       "      <td>11.926154</td>\n",
       "      <td>0.098956</td>\n",
       "    </tr>\n",
       "    <tr>\n",
       "      <th>dual_gradient</th>\n",
       "      <td>15.062534</td>\n",
       "      <td>11.927328</td>\n",
       "      <td>0.098961</td>\n",
       "    </tr>\n",
       "    <tr>\n",
       "      <th>lasso</th>\n",
       "      <td>14.946012</td>\n",
       "      <td>11.837952</td>\n",
       "      <td>0.099021</td>\n",
       "    </tr>\n",
       "  </tbody>\n",
       "</table>\n",
       "</div>"
      ],
      "text/plain": [
       "                    RMSE        MAE  MAE_perc\n",
       "accelerated    14.934496  11.826295  0.098547\n",
       "gradient       15.060824  11.926154  0.098956\n",
       "dual_gradient  15.062534  11.927328  0.098961\n",
       "lasso          14.946012  11.837952  0.099021"
      ]
     },
     "execution_count": 5,
     "metadata": {},
     "output_type": "execute_result"
    }
   ],
   "source": [
    "models_tested=test_functions.test_models(X_train,y_train)\n",
    "test_functions.models_quality(X_test,y_test,models_tested)"
   ]
  },
  {
   "cell_type": "markdown",
   "id": "6ab6c976",
   "metadata": {},
   "source": [
    "### Problem 3"
   ]
  },
  {
   "cell_type": "code",
   "execution_count": 6,
   "id": "e028fa41",
   "metadata": {},
   "outputs": [],
   "source": [
    "n_samples=500\n",
    "n_features=50\n",
    "n_informative=25\n",
    "X, y, coef = datasets.make_regression(n_samples = n_samples,#number of samples\n",
    "                                      n_features = n_features,#number of features\n",
    "                                      n_informative = n_informative,#number of useful features\n",
    "                                      noise = 10,#bias and standard deviation of the guassian noise\n",
    "                                      coef = True #true coefficient used to generated the data\n",
    "                                      )\n",
    "X_train, X_test, y_train, y_test = train_test_split(X,y,test_size=0.3)"
   ]
  },
  {
   "cell_type": "code",
   "execution_count": 7,
   "id": "4d816be0",
   "metadata": {},
   "outputs": [
    {
     "name": "stdout",
     "output_type": "stream",
     "text": [
      "accelerated  early stopping at  1535\n",
      "gradient  early stopping at  1648\n"
     ]
    },
    {
     "data": {
      "text/html": [
       "<div>\n",
       "<style scoped>\n",
       "    .dataframe tbody tr th:only-of-type {\n",
       "        vertical-align: middle;\n",
       "    }\n",
       "\n",
       "    .dataframe tbody tr th {\n",
       "        vertical-align: top;\n",
       "    }\n",
       "\n",
       "    .dataframe thead th {\n",
       "        text-align: right;\n",
       "    }\n",
       "</style>\n",
       "<table border=\"1\" class=\"dataframe\">\n",
       "  <thead>\n",
       "    <tr style=\"text-align: right;\">\n",
       "      <th></th>\n",
       "      <th>RMSE</th>\n",
       "      <th>MAE</th>\n",
       "      <th>MAE_perc</th>\n",
       "    </tr>\n",
       "  </thead>\n",
       "  <tbody>\n",
       "    <tr>\n",
       "      <th>accelerated</th>\n",
       "      <td>12.401662</td>\n",
       "      <td>9.886403</td>\n",
       "      <td>0.114844</td>\n",
       "    </tr>\n",
       "    <tr>\n",
       "      <th>gradient</th>\n",
       "      <td>12.401662</td>\n",
       "      <td>9.886403</td>\n",
       "      <td>0.114844</td>\n",
       "    </tr>\n",
       "    <tr>\n",
       "      <th>dual_gradient</th>\n",
       "      <td>12.402725</td>\n",
       "      <td>9.888742</td>\n",
       "      <td>0.114873</td>\n",
       "    </tr>\n",
       "    <tr>\n",
       "      <th>lasso</th>\n",
       "      <td>12.405444</td>\n",
       "      <td>9.925881</td>\n",
       "      <td>0.115562</td>\n",
       "    </tr>\n",
       "  </tbody>\n",
       "</table>\n",
       "</div>"
      ],
      "text/plain": [
       "                    RMSE       MAE  MAE_perc\n",
       "accelerated    12.401662  9.886403  0.114844\n",
       "gradient       12.401662  9.886403  0.114844\n",
       "dual_gradient  12.402725  9.888742  0.114873\n",
       "lasso          12.405444  9.925881  0.115562"
      ]
     },
     "execution_count": 7,
     "metadata": {},
     "output_type": "execute_result"
    }
   ],
   "source": [
    "models_tested=test_functions.test_models(X_train,y_train)\n",
    "test_functions.models_quality(X_test,y_test,models_tested)"
   ]
  },
  {
   "cell_type": "markdown",
   "id": "f7fdceb7",
   "metadata": {},
   "source": [
    "### Problem 4"
   ]
  },
  {
   "cell_type": "code",
   "execution_count": 8,
   "id": "d1345ccf",
   "metadata": {},
   "outputs": [],
   "source": [
    "n_samples=1000\n",
    "n_features=100\n",
    "n_informative=50\n",
    "X, y, coef = datasets.make_regression(n_samples = n_samples,#number of samples\n",
    "                                      n_features = n_features,#number of features\n",
    "                                      n_informative = n_informative,#number of useful features\n",
    "                                      noise = 10,#bias and standard deviation of the guassian noise\n",
    "                                      coef = True #true coefficient used to generated the data\n",
    "                                      )\n",
    "X_train, X_test, y_train, y_test = train_test_split(X,y,test_size=0.3)"
   ]
  },
  {
   "cell_type": "code",
   "execution_count": 9,
   "id": "dae88590",
   "metadata": {},
   "outputs": [
    {
     "name": "stdout",
     "output_type": "stream",
     "text": [
      "accelerated  early stopping at  136\n"
     ]
    },
    {
     "data": {
      "text/html": [
       "<div>\n",
       "<style scoped>\n",
       "    .dataframe tbody tr th:only-of-type {\n",
       "        vertical-align: middle;\n",
       "    }\n",
       "\n",
       "    .dataframe tbody tr th {\n",
       "        vertical-align: top;\n",
       "    }\n",
       "\n",
       "    .dataframe thead th {\n",
       "        text-align: right;\n",
       "    }\n",
       "</style>\n",
       "<table border=\"1\" class=\"dataframe\">\n",
       "  <thead>\n",
       "    <tr style=\"text-align: right;\">\n",
       "      <th></th>\n",
       "      <th>RMSE</th>\n",
       "      <th>MAE</th>\n",
       "      <th>MAE_perc</th>\n",
       "    </tr>\n",
       "  </thead>\n",
       "  <tbody>\n",
       "    <tr>\n",
       "      <th>accelerated</th>\n",
       "      <td>13.569536</td>\n",
       "      <td>10.628026</td>\n",
       "      <td>0.079392</td>\n",
       "    </tr>\n",
       "    <tr>\n",
       "      <th>gradient</th>\n",
       "      <td>13.569536</td>\n",
       "      <td>10.628026</td>\n",
       "      <td>0.079392</td>\n",
       "    </tr>\n",
       "    <tr>\n",
       "      <th>dual_gradient</th>\n",
       "      <td>13.569536</td>\n",
       "      <td>10.628026</td>\n",
       "      <td>0.079392</td>\n",
       "    </tr>\n",
       "    <tr>\n",
       "      <th>lasso</th>\n",
       "      <td>13.561964</td>\n",
       "      <td>10.619826</td>\n",
       "      <td>0.078972</td>\n",
       "    </tr>\n",
       "  </tbody>\n",
       "</table>\n",
       "</div>"
      ],
      "text/plain": [
       "                    RMSE        MAE  MAE_perc\n",
       "accelerated    13.569536  10.628026  0.079392\n",
       "gradient       13.569536  10.628026  0.079392\n",
       "dual_gradient  13.569536  10.628026  0.079392\n",
       "lasso          13.561964  10.619826  0.078972"
      ]
     },
     "execution_count": 9,
     "metadata": {},
     "output_type": "execute_result"
    }
   ],
   "source": [
    "models_tested=test_functions.test_models(X_train,y_train)\n",
    "test_functions.models_quality(X_test,y_test,models_tested)"
   ]
  }
 ],
 "metadata": {
  "kernelspec": {
   "display_name": "Python 3",
   "language": "python",
   "name": "python3"
  },
  "language_info": {
   "codemirror_mode": {
    "name": "ipython",
    "version": 3
   },
   "file_extension": ".py",
   "mimetype": "text/x-python",
   "name": "python",
   "nbconvert_exporter": "python",
   "pygments_lexer": "ipython3",
   "version": "3.8.8"
  }
 },
 "nbformat": 4,
 "nbformat_minor": 5
}
