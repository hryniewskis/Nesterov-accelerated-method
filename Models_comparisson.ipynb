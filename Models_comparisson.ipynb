{
 "cells": [
  {
   "cell_type": "code",
   "execution_count": 1,
   "id": "324c0562",
   "metadata": {},
   "outputs": [],
   "source": [
    "%load_ext autoreload\n",
    "%autoreload 2\n",
    "from optimizers import Nesterov_Optimizers\n",
    "\n",
    "import numpy as np\n",
    "from sklearn import datasets\n",
    "from sklearn.model_selection import train_test_split\n",
    "import test_functions \n",
    "import random"
   ]
  },
  {
   "cell_type": "markdown",
   "id": "0176a06f",
   "metadata": {},
   "source": [
    "Maximal number of iterations is currently set to 2500, the stopping criterion is from the paper"
   ]
  },
  {
   "cell_type": "markdown",
   "id": "9da6b5da",
   "metadata": {},
   "source": [
    "### Problem 1"
   ]
  },
  {
   "cell_type": "code",
   "execution_count": 2,
   "id": "1e5a9a4c",
   "metadata": {},
   "outputs": [],
   "source": [
    "n_samples=4000\n",
    "n_features=1000\n",
    "n_informative=100\n",
    "X, y, coef = datasets.make_regression(n_samples = n_samples,#number of samples\n",
    "                                      n_features = n_features,#number of features\n",
    "                                      n_informative = n_informative,#number of useful features\n",
    "                                      noise = 10,#bias and standard deviation of the guassian noise\n",
    "                                      coef = True #true coefficient used to generated the data\n",
    "                                     )\n",
    "X_train, X_test, y_train, y_test = train_test_split(X,y,test_size=0.3)"
   ]
  },
  {
   "cell_type": "code",
   "execution_count": 3,
   "id": "84884d59",
   "metadata": {
    "scrolled": true
   },
   "outputs": [
    {
     "name": "stdout",
     "output_type": "stream",
     "text": [
      "accelerated  early stopping at  78\n"
     ]
    },
    {
     "name": "stderr",
     "output_type": "stream",
     "text": [
      "C:\\Users\\Szymon\\Jupyter\\ODA\\ODA_Project\\optimizers.py:70: RuntimeWarning: invalid value encountered in double_scalars\n",
      "  S_L = norm(self.__gradient_f(T) - self.__gradient_f(x)) / norm(T - x)\n"
     ]
    },
    {
     "name": "stdout",
     "output_type": "stream",
     "text": [
      "gradient  early stopping at  0\n",
      "dual_gradient  early stopping at  0\n"
     ]
    },
    {
     "data": {
      "text/html": [
       "<div>\n",
       "<style scoped>\n",
       "    .dataframe tbody tr th:only-of-type {\n",
       "        vertical-align: middle;\n",
       "    }\n",
       "\n",
       "    .dataframe tbody tr th {\n",
       "        vertical-align: top;\n",
       "    }\n",
       "\n",
       "    .dataframe thead th {\n",
       "        text-align: right;\n",
       "    }\n",
       "</style>\n",
       "<table border=\"1\" class=\"dataframe\">\n",
       "  <thead>\n",
       "    <tr style=\"text-align: right;\">\n",
       "      <th></th>\n",
       "      <th>RMSE</th>\n",
       "      <th>MAE</th>\n",
       "      <th>MAE_perc</th>\n",
       "    </tr>\n",
       "  </thead>\n",
       "  <tbody>\n",
       "    <tr>\n",
       "      <th>accelerated</th>\n",
       "      <td>592.218858</td>\n",
       "      <td>472.009768</td>\n",
       "      <td>1.000000</td>\n",
       "    </tr>\n",
       "    <tr>\n",
       "      <th>gradient</th>\n",
       "      <td>592.218858</td>\n",
       "      <td>472.009768</td>\n",
       "      <td>1.000000</td>\n",
       "    </tr>\n",
       "    <tr>\n",
       "      <th>dual_gradient</th>\n",
       "      <td>592.218858</td>\n",
       "      <td>472.009768</td>\n",
       "      <td>1.000000</td>\n",
       "    </tr>\n",
       "    <tr>\n",
       "      <th>lasso</th>\n",
       "      <td>11.560954</td>\n",
       "      <td>9.349309</td>\n",
       "      <td>0.218293</td>\n",
       "    </tr>\n",
       "  </tbody>\n",
       "</table>\n",
       "</div>"
      ],
      "text/plain": [
       "                     RMSE         MAE  MAE_perc\n",
       "accelerated    592.218858  472.009768  1.000000\n",
       "gradient       592.218858  472.009768  1.000000\n",
       "dual_gradient  592.218858  472.009768  1.000000\n",
       "lasso           11.560954    9.349309  0.218293"
      ]
     },
     "execution_count": 3,
     "metadata": {},
     "output_type": "execute_result"
    }
   ],
   "source": [
    "models_tested=test_functions.test_models(X_train,y_train)\n",
    "test_functions.models_quality(X_test,y_test,models_tested)"
   ]
  },
  {
   "cell_type": "markdown",
   "id": "9e387ae5",
   "metadata": {},
   "source": [
    "### Problem 2"
   ]
  },
  {
   "cell_type": "code",
   "execution_count": 4,
   "id": "acde060c",
   "metadata": {},
   "outputs": [],
   "source": [
    "n_samples=5000\n",
    "n_features=500\n",
    "n_informative=100\n",
    "X, y, coef = datasets.make_regression(n_samples = n_samples,#number of samples\n",
    "                                      n_features = n_features,#number of features\n",
    "                                      n_informative = n_informative,#number of useful features\n",
    "                                      noise = 10,#bias and standard deviation of the guassian noise\n",
    "                                      coef = True #true coefficient used to generated the data\n",
    "                                      )\n",
    "X_train, X_test, y_train, y_test = train_test_split(X,y,test_size=0.3)"
   ]
  },
  {
   "cell_type": "code",
   "execution_count": 5,
   "id": "991eb309",
   "metadata": {},
   "outputs": [
    {
     "name": "stdout",
     "output_type": "stream",
     "text": [
      "accelerated  early stopping at  59\n"
     ]
    },
    {
     "name": "stderr",
     "output_type": "stream",
     "text": [
      "C:\\Users\\Szymon\\Jupyter\\ODA\\ODA_Project\\optimizers.py:70: RuntimeWarning: invalid value encountered in double_scalars\n",
      "  S_L = norm(self.__gradient_f(T) - self.__gradient_f(x)) / norm(T - x)\n"
     ]
    },
    {
     "name": "stdout",
     "output_type": "stream",
     "text": [
      "gradient  early stopping at  0\n",
      "dual_gradient  early stopping at  0\n"
     ]
    },
    {
     "data": {
      "text/html": [
       "<div>\n",
       "<style scoped>\n",
       "    .dataframe tbody tr th:only-of-type {\n",
       "        vertical-align: middle;\n",
       "    }\n",
       "\n",
       "    .dataframe tbody tr th {\n",
       "        vertical-align: top;\n",
       "    }\n",
       "\n",
       "    .dataframe thead th {\n",
       "        text-align: right;\n",
       "    }\n",
       "</style>\n",
       "<table border=\"1\" class=\"dataframe\">\n",
       "  <thead>\n",
       "    <tr style=\"text-align: right;\">\n",
       "      <th></th>\n",
       "      <th>RMSE</th>\n",
       "      <th>MAE</th>\n",
       "      <th>MAE_perc</th>\n",
       "    </tr>\n",
       "  </thead>\n",
       "  <tbody>\n",
       "    <tr>\n",
       "      <th>accelerated</th>\n",
       "      <td>581.721079</td>\n",
       "      <td>464.390451</td>\n",
       "      <td>1.000000</td>\n",
       "    </tr>\n",
       "    <tr>\n",
       "      <th>gradient</th>\n",
       "      <td>581.721079</td>\n",
       "      <td>464.390451</td>\n",
       "      <td>1.000000</td>\n",
       "    </tr>\n",
       "    <tr>\n",
       "      <th>dual_gradient</th>\n",
       "      <td>581.721079</td>\n",
       "      <td>464.390451</td>\n",
       "      <td>1.000000</td>\n",
       "    </tr>\n",
       "    <tr>\n",
       "      <th>lasso</th>\n",
       "      <td>14.812523</td>\n",
       "      <td>11.821453</td>\n",
       "      <td>0.144938</td>\n",
       "    </tr>\n",
       "  </tbody>\n",
       "</table>\n",
       "</div>"
      ],
      "text/plain": [
       "                     RMSE         MAE  MAE_perc\n",
       "accelerated    581.721079  464.390451  1.000000\n",
       "gradient       581.721079  464.390451  1.000000\n",
       "dual_gradient  581.721079  464.390451  1.000000\n",
       "lasso           14.812523   11.821453  0.144938"
      ]
     },
     "execution_count": 5,
     "metadata": {},
     "output_type": "execute_result"
    }
   ],
   "source": [
    "models_tested=test_functions.test_models(X_train,y_train)\n",
    "test_functions.models_quality(X_test,y_test,models_tested)"
   ]
  },
  {
   "cell_type": "markdown",
   "id": "6372cf8e",
   "metadata": {},
   "source": [
    "### Problem 3"
   ]
  },
  {
   "cell_type": "code",
   "execution_count": 6,
   "id": "2afab812",
   "metadata": {},
   "outputs": [],
   "source": [
    "n_samples=500\n",
    "n_features=50\n",
    "n_informative=25\n",
    "X, y, coef = datasets.make_regression(n_samples = n_samples,#number of samples\n",
    "                                      n_features = n_features,#number of features\n",
    "                                      n_informative = n_informative,#number of useful features\n",
    "                                      noise = 10,#bias and standard deviation of the guassian noise\n",
    "                                      coef = True #true coefficient used to generated the data\n",
    "                                      )\n",
    "X_train, X_test, y_train, y_test = train_test_split(X,y,test_size=0.3)"
   ]
  },
  {
   "cell_type": "code",
   "execution_count": 7,
   "id": "a95677d8",
   "metadata": {},
   "outputs": [
    {
     "name": "stdout",
     "output_type": "stream",
     "text": [
      "accelerated  early stopping at  87\n",
      "gradient  early stopping at  0\n",
      "dual_gradient  early stopping at  0\n"
     ]
    },
    {
     "name": "stderr",
     "output_type": "stream",
     "text": [
      "C:\\Users\\Szymon\\Jupyter\\ODA\\ODA_Project\\optimizers.py:70: RuntimeWarning: invalid value encountered in double_scalars\n",
      "  S_L = norm(self.__gradient_f(T) - self.__gradient_f(x)) / norm(T - x)\n"
     ]
    },
    {
     "data": {
      "text/html": [
       "<div>\n",
       "<style scoped>\n",
       "    .dataframe tbody tr th:only-of-type {\n",
       "        vertical-align: middle;\n",
       "    }\n",
       "\n",
       "    .dataframe tbody tr th {\n",
       "        vertical-align: top;\n",
       "    }\n",
       "\n",
       "    .dataframe thead th {\n",
       "        text-align: right;\n",
       "    }\n",
       "</style>\n",
       "<table border=\"1\" class=\"dataframe\">\n",
       "  <thead>\n",
       "    <tr style=\"text-align: right;\">\n",
       "      <th></th>\n",
       "      <th>RMSE</th>\n",
       "      <th>MAE</th>\n",
       "      <th>MAE_perc</th>\n",
       "    </tr>\n",
       "  </thead>\n",
       "  <tbody>\n",
       "    <tr>\n",
       "      <th>accelerated</th>\n",
       "      <td>276.187363</td>\n",
       "      <td>229.177904</td>\n",
       "      <td>1.000000</td>\n",
       "    </tr>\n",
       "    <tr>\n",
       "      <th>gradient</th>\n",
       "      <td>276.187363</td>\n",
       "      <td>229.177904</td>\n",
       "      <td>1.000000</td>\n",
       "    </tr>\n",
       "    <tr>\n",
       "      <th>dual_gradient</th>\n",
       "      <td>276.187363</td>\n",
       "      <td>229.177904</td>\n",
       "      <td>1.000000</td>\n",
       "    </tr>\n",
       "    <tr>\n",
       "      <th>lasso</th>\n",
       "      <td>9.474398</td>\n",
       "      <td>7.560410</td>\n",
       "      <td>0.124872</td>\n",
       "    </tr>\n",
       "  </tbody>\n",
       "</table>\n",
       "</div>"
      ],
      "text/plain": [
       "                     RMSE         MAE  MAE_perc\n",
       "accelerated    276.187363  229.177904  1.000000\n",
       "gradient       276.187363  229.177904  1.000000\n",
       "dual_gradient  276.187363  229.177904  1.000000\n",
       "lasso            9.474398    7.560410  0.124872"
      ]
     },
     "execution_count": 7,
     "metadata": {},
     "output_type": "execute_result"
    }
   ],
   "source": [
    "models_tested=test_functions.test_models(X_train,y_train)\n",
    "test_functions.models_quality(X_test,y_test,models_tested)"
   ]
  },
  {
   "cell_type": "markdown",
   "id": "25f1ad87",
   "metadata": {},
   "source": [
    "### Problem 4"
   ]
  },
  {
   "cell_type": "code",
   "execution_count": 8,
   "id": "7bd7f546",
   "metadata": {},
   "outputs": [],
   "source": [
    "n_samples=1000\n",
    "n_features=100\n",
    "n_informative=50\n",
    "X, y, coef = datasets.make_regression(n_samples = n_samples,#number of samples\n",
    "                                      n_features = n_features,#number of features\n",
    "                                      n_informative = n_informative,#number of useful features\n",
    "                                      noise = 10,#bias and standard deviation of the guassian noise\n",
    "                                      coef = True #true coefficient used to generated the data\n",
    "                                      )\n",
    "X_train, X_test, y_train, y_test = train_test_split(X,y,test_size=0.3)"
   ]
  },
  {
   "cell_type": "code",
   "execution_count": 9,
   "id": "f9ad54c5",
   "metadata": {},
   "outputs": [
    {
     "name": "stdout",
     "output_type": "stream",
     "text": [
      "accelerated  early stopping at  202\n",
      "gradient  early stopping at  0\n",
      "dual_gradient  early stopping at  0\n"
     ]
    },
    {
     "name": "stderr",
     "output_type": "stream",
     "text": [
      "C:\\Users\\Szymon\\Jupyter\\ODA\\ODA_Project\\optimizers.py:70: RuntimeWarning: invalid value encountered in double_scalars\n",
      "  S_L = norm(self.__gradient_f(T) - self.__gradient_f(x)) / norm(T - x)\n"
     ]
    },
    {
     "data": {
      "text/html": [
       "<div>\n",
       "<style scoped>\n",
       "    .dataframe tbody tr th:only-of-type {\n",
       "        vertical-align: middle;\n",
       "    }\n",
       "\n",
       "    .dataframe tbody tr th {\n",
       "        vertical-align: top;\n",
       "    }\n",
       "\n",
       "    .dataframe thead th {\n",
       "        text-align: right;\n",
       "    }\n",
       "</style>\n",
       "<table border=\"1\" class=\"dataframe\">\n",
       "  <thead>\n",
       "    <tr style=\"text-align: right;\">\n",
       "      <th></th>\n",
       "      <th>RMSE</th>\n",
       "      <th>MAE</th>\n",
       "      <th>MAE_perc</th>\n",
       "    </tr>\n",
       "  </thead>\n",
       "  <tbody>\n",
       "    <tr>\n",
       "      <th>accelerated</th>\n",
       "      <td>441.528469</td>\n",
       "      <td>344.634112</td>\n",
       "      <td>1.000000</td>\n",
       "    </tr>\n",
       "    <tr>\n",
       "      <th>gradient</th>\n",
       "      <td>441.528469</td>\n",
       "      <td>344.634112</td>\n",
       "      <td>1.000000</td>\n",
       "    </tr>\n",
       "    <tr>\n",
       "      <th>dual_gradient</th>\n",
       "      <td>441.528469</td>\n",
       "      <td>344.634112</td>\n",
       "      <td>1.000000</td>\n",
       "    </tr>\n",
       "    <tr>\n",
       "      <th>lasso</th>\n",
       "      <td>8.594146</td>\n",
       "      <td>6.730112</td>\n",
       "      <td>0.291599</td>\n",
       "    </tr>\n",
       "  </tbody>\n",
       "</table>\n",
       "</div>"
      ],
      "text/plain": [
       "                     RMSE         MAE  MAE_perc\n",
       "accelerated    441.528469  344.634112  1.000000\n",
       "gradient       441.528469  344.634112  1.000000\n",
       "dual_gradient  441.528469  344.634112  1.000000\n",
       "lasso            8.594146    6.730112  0.291599"
      ]
     },
     "execution_count": 9,
     "metadata": {},
     "output_type": "execute_result"
    }
   ],
   "source": [
    "models_tested=test_functions.test_models(X_train,y_train)\n",
    "test_functions.models_quality(X_test,y_test,models_tested)"
   ]
  }
 ],
 "metadata": {
  "kernelspec": {
   "display_name": "Python 3",
   "language": "python",
   "name": "python3"
  },
  "language_info": {
   "codemirror_mode": {
    "name": "ipython",
    "version": 3
   },
   "file_extension": ".py",
   "mimetype": "text/x-python",
   "name": "python",
   "nbconvert_exporter": "python",
   "pygments_lexer": "ipython3",
   "version": "3.8.8"
  }
 },
 "nbformat": 4,
 "nbformat_minor": 5
}
