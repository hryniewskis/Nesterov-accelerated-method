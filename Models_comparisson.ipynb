{
 "cells": [
  {
   "cell_type": "code",
   "execution_count": 1,
   "id": "bee3ddf7",
   "metadata": {},
   "outputs": [],
   "source": [
    "%load_ext autoreload\n",
    "%autoreload 2\n",
    "from optimizers import Nesterov_Optimizers\n",
    "\n",
    "import numpy as np\n",
    "from sklearn import datasets\n",
    "from sklearn.model_selection import train_test_split\n",
    "import test_functions \n",
    "import random\n",
    "from sklearn.datasets import fetch_california_housing,load_boston"
   ]
  },
  {
   "cell_type": "markdown",
   "id": "a3ef6a96",
   "metadata": {},
   "source": [
    "Maximal number of iterations is currently set to 2500, the stopping criterion is from the paper"
   ]
  },
  {
   "cell_type": "markdown",
   "id": "cd6536e0",
   "metadata": {},
   "source": [
    "### Problem 1"
   ]
  },
  {
   "cell_type": "code",
   "execution_count": 2,
   "id": "bedf5d44",
   "metadata": {},
   "outputs": [],
   "source": [
    "n_samples=4000\n",
    "n_features=1000\n",
    "n_informative=100\n",
    "X, y, coef = datasets.make_regression(n_samples = n_samples,#number of samples\n",
    "                                      n_features = n_features,#number of features\n",
    "                                      n_informative = n_informative,#number of useful features\n",
    "                                      noise = 10,#bias and standard deviation of the guassian noise\n",
    "                                      coef = True #true coefficient used to generated the data\n",
    "                                     )\n",
    "X_train, X_test, y_train, y_test = train_test_split(X,y,test_size=0.3)"
   ]
  },
  {
   "cell_type": "code",
   "execution_count": 3,
   "id": "f730f901",
   "metadata": {
    "scrolled": true
   },
   "outputs": [
    {
     "name": "stdout",
     "output_type": "stream",
     "text": [
      "accelerated  early stopping at  65\n",
      "597.5717215032995\n",
      "gradient  early stopping at  24\n",
      "597.571721490848\n",
      "dual_gradient  early stopping at  24\n",
      "597.5717215007388\n"
     ]
    },
    {
     "data": {
      "text/html": [
       "<div>\n",
       "<style scoped>\n",
       "    .dataframe tbody tr th:only-of-type {\n",
       "        vertical-align: middle;\n",
       "    }\n",
       "\n",
       "    .dataframe tbody tr th {\n",
       "        vertical-align: top;\n",
       "    }\n",
       "\n",
       "    .dataframe thead th {\n",
       "        text-align: right;\n",
       "    }\n",
       "</style>\n",
       "<table border=\"1\" class=\"dataframe\">\n",
       "  <thead>\n",
       "    <tr style=\"text-align: right;\">\n",
       "      <th></th>\n",
       "      <th>RMSE</th>\n",
       "      <th>MAE</th>\n",
       "      <th>MAE_perc</th>\n",
       "    </tr>\n",
       "  </thead>\n",
       "  <tbody>\n",
       "    <tr>\n",
       "      <th>accelerated</th>\n",
       "      <td>14.158647</td>\n",
       "      <td>11.221335</td>\n",
       "      <td>0.116207</td>\n",
       "    </tr>\n",
       "    <tr>\n",
       "      <th>gradient</th>\n",
       "      <td>14.158647</td>\n",
       "      <td>11.221335</td>\n",
       "      <td>0.116207</td>\n",
       "    </tr>\n",
       "    <tr>\n",
       "      <th>dual_gradient</th>\n",
       "      <td>14.158647</td>\n",
       "      <td>11.221335</td>\n",
       "      <td>0.116207</td>\n",
       "    </tr>\n",
       "    <tr>\n",
       "      <th>lasso</th>\n",
       "      <td>14.155597</td>\n",
       "      <td>11.217536</td>\n",
       "      <td>0.116215</td>\n",
       "    </tr>\n",
       "  </tbody>\n",
       "</table>\n",
       "</div>"
      ],
      "text/plain": [
       "                    RMSE        MAE  MAE_perc\n",
       "accelerated    14.158647  11.221335  0.116207\n",
       "gradient       14.158647  11.221335  0.116207\n",
       "dual_gradient  14.158647  11.221335  0.116207\n",
       "lasso          14.155597  11.217536  0.116215"
      ]
     },
     "execution_count": 3,
     "metadata": {},
     "output_type": "execute_result"
    }
   ],
   "source": [
    "models_tested=test_functions.test_models(X_train,y_train)\n",
    "test_functions.models_quality(X_test,y_test,models_tested)"
   ]
  },
  {
   "cell_type": "markdown",
   "id": "61226dbc",
   "metadata": {},
   "source": [
    "### Problem 2"
   ]
  },
  {
   "cell_type": "code",
   "execution_count": 4,
   "id": "a6075f38",
   "metadata": {},
   "outputs": [],
   "source": [
    "n_samples=5000\n",
    "n_features=500\n",
    "n_informative=100\n",
    "X, y, coef = datasets.make_regression(n_samples = n_samples,#number of samples\n",
    "                                      n_features = n_features,#number of features\n",
    "                                      n_informative = n_informative,#number of useful features\n",
    "                                      noise = 10,#bias and standard deviation of the guassian noise\n",
    "                                      coef = True #true coefficient used to generated the data\n",
    "                                      )\n",
    "X_train, X_test, y_train, y_test = train_test_split(X,y,test_size=0.3)"
   ]
  },
  {
   "cell_type": "code",
   "execution_count": 5,
   "id": "ee38172e",
   "metadata": {},
   "outputs": [
    {
     "name": "stdout",
     "output_type": "stream",
     "text": [
      "accelerated  early stopping at  85\n",
      "646.9298833353636\n",
      "gradient  early stopping at  24\n",
      "646.9298833294364\n",
      "dual_gradient  early stopping at  39\n",
      "646.9298833343354\n"
     ]
    },
    {
     "data": {
      "text/html": [
       "<div>\n",
       "<style scoped>\n",
       "    .dataframe tbody tr th:only-of-type {\n",
       "        vertical-align: middle;\n",
       "    }\n",
       "\n",
       "    .dataframe tbody tr th {\n",
       "        vertical-align: top;\n",
       "    }\n",
       "\n",
       "    .dataframe thead th {\n",
       "        text-align: right;\n",
       "    }\n",
       "</style>\n",
       "<table border=\"1\" class=\"dataframe\">\n",
       "  <thead>\n",
       "    <tr style=\"text-align: right;\">\n",
       "      <th></th>\n",
       "      <th>RMSE</th>\n",
       "      <th>MAE</th>\n",
       "      <th>MAE_perc</th>\n",
       "    </tr>\n",
       "  </thead>\n",
       "  <tbody>\n",
       "    <tr>\n",
       "      <th>accelerated</th>\n",
       "      <td>14.708820</td>\n",
       "      <td>11.745709</td>\n",
       "      <td>0.085399</td>\n",
       "    </tr>\n",
       "    <tr>\n",
       "      <th>gradient</th>\n",
       "      <td>14.708820</td>\n",
       "      <td>11.745709</td>\n",
       "      <td>0.085399</td>\n",
       "    </tr>\n",
       "    <tr>\n",
       "      <th>dual_gradient</th>\n",
       "      <td>14.708820</td>\n",
       "      <td>11.745709</td>\n",
       "      <td>0.085399</td>\n",
       "    </tr>\n",
       "    <tr>\n",
       "      <th>lasso</th>\n",
       "      <td>14.708877</td>\n",
       "      <td>11.743933</td>\n",
       "      <td>0.085233</td>\n",
       "    </tr>\n",
       "  </tbody>\n",
       "</table>\n",
       "</div>"
      ],
      "text/plain": [
       "                    RMSE        MAE  MAE_perc\n",
       "accelerated    14.708820  11.745709  0.085399\n",
       "gradient       14.708820  11.745709  0.085399\n",
       "dual_gradient  14.708820  11.745709  0.085399\n",
       "lasso          14.708877  11.743933  0.085233"
      ]
     },
     "execution_count": 5,
     "metadata": {},
     "output_type": "execute_result"
    }
   ],
   "source": [
    "models_tested=test_functions.test_models(X_train,y_train)\n",
    "test_functions.models_quality(X_test,y_test,models_tested)"
   ]
  },
  {
   "cell_type": "markdown",
   "id": "76a45f32",
   "metadata": {},
   "source": [
    "### Problem 3"
   ]
  },
  {
   "cell_type": "code",
   "execution_count": 6,
   "id": "297185a9",
   "metadata": {},
   "outputs": [],
   "source": [
    "n_samples=500\n",
    "n_features=50\n",
    "n_informative=25\n",
    "X, y, coef = datasets.make_regression(n_samples = n_samples,#number of samples\n",
    "                                      n_features = n_features,#number of features\n",
    "                                      n_informative = n_informative,#number of useful features\n",
    "                                      noise = 10,#bias and standard deviation of the guassian noise\n",
    "                                      coef = True #true coefficient used to generated the data\n",
    "                                      )\n",
    "X_train, X_test, y_train, y_test = train_test_split(X,y,test_size=0.3)"
   ]
  },
  {
   "cell_type": "code",
   "execution_count": 7,
   "id": "82218e75",
   "metadata": {},
   "outputs": [
    {
     "name": "stdout",
     "output_type": "stream",
     "text": [
      "accelerated  early stopping at  67\n",
      "295.1214031301147\n",
      "gradient  early stopping at  26\n",
      "295.12140320137377\n",
      "dual_gradient  early stopping at  26\n",
      "295.1214031306426\n"
     ]
    },
    {
     "data": {
      "text/html": [
       "<div>\n",
       "<style scoped>\n",
       "    .dataframe tbody tr th:only-of-type {\n",
       "        vertical-align: middle;\n",
       "    }\n",
       "\n",
       "    .dataframe tbody tr th {\n",
       "        vertical-align: top;\n",
       "    }\n",
       "\n",
       "    .dataframe thead th {\n",
       "        text-align: right;\n",
       "    }\n",
       "</style>\n",
       "<table border=\"1\" class=\"dataframe\">\n",
       "  <thead>\n",
       "    <tr style=\"text-align: right;\">\n",
       "      <th></th>\n",
       "      <th>RMSE</th>\n",
       "      <th>MAE</th>\n",
       "      <th>MAE_perc</th>\n",
       "    </tr>\n",
       "  </thead>\n",
       "  <tbody>\n",
       "    <tr>\n",
       "      <th>accelerated</th>\n",
       "      <td>12.133450</td>\n",
       "      <td>9.803945</td>\n",
       "      <td>0.137419</td>\n",
       "    </tr>\n",
       "    <tr>\n",
       "      <th>gradient</th>\n",
       "      <td>12.133450</td>\n",
       "      <td>9.803945</td>\n",
       "      <td>0.137419</td>\n",
       "    </tr>\n",
       "    <tr>\n",
       "      <th>dual_gradient</th>\n",
       "      <td>12.133450</td>\n",
       "      <td>9.803945</td>\n",
       "      <td>0.137419</td>\n",
       "    </tr>\n",
       "    <tr>\n",
       "      <th>lasso</th>\n",
       "      <td>12.228357</td>\n",
       "      <td>9.887134</td>\n",
       "      <td>0.131085</td>\n",
       "    </tr>\n",
       "  </tbody>\n",
       "</table>\n",
       "</div>"
      ],
      "text/plain": [
       "                    RMSE       MAE  MAE_perc\n",
       "accelerated    12.133450  9.803945  0.137419\n",
       "gradient       12.133450  9.803945  0.137419\n",
       "dual_gradient  12.133450  9.803945  0.137419\n",
       "lasso          12.228357  9.887134  0.131085"
      ]
     },
     "execution_count": 7,
     "metadata": {},
     "output_type": "execute_result"
    }
   ],
   "source": [
    "models_tested=test_functions.test_models(X_train,y_train)\n",
    "test_functions.models_quality(X_test,y_test,models_tested)"
   ]
  },
  {
   "cell_type": "markdown",
   "id": "e0913aaa",
   "metadata": {},
   "source": [
    "### Problem 4"
   ]
  },
  {
   "cell_type": "code",
   "execution_count": 8,
   "id": "f9144a7c",
   "metadata": {},
   "outputs": [],
   "source": [
    "n_samples=1000\n",
    "n_features=100\n",
    "n_informative=50\n",
    "X, y, coef = datasets.make_regression(n_samples = n_samples,#number of samples\n",
    "                                      n_features = n_features,#number of features\n",
    "                                      n_informative = n_informative,#number of useful features\n",
    "                                      noise = 10,#bias and standard deviation of the guassian noise\n",
    "                                      coef = True #true coefficient used to generated the data\n",
    "                                      )\n",
    "X_train, X_test, y_train, y_test = train_test_split(X,y,test_size=0.3)"
   ]
  },
  {
   "cell_type": "code",
   "execution_count": 9,
   "id": "cb0746fe",
   "metadata": {
    "scrolled": true
   },
   "outputs": [
    {
     "name": "stdout",
     "output_type": "stream",
     "text": [
      "accelerated  early stopping at  388\n",
      "428.98551357626803\n",
      "gradient  early stopping at  28\n",
      "428.98551357294394\n",
      "dual_gradient  early stopping at  149\n",
      "428.9855136163429\n"
     ]
    },
    {
     "data": {
      "text/html": [
       "<div>\n",
       "<style scoped>\n",
       "    .dataframe tbody tr th:only-of-type {\n",
       "        vertical-align: middle;\n",
       "    }\n",
       "\n",
       "    .dataframe tbody tr th {\n",
       "        vertical-align: top;\n",
       "    }\n",
       "\n",
       "    .dataframe thead th {\n",
       "        text-align: right;\n",
       "    }\n",
       "</style>\n",
       "<table border=\"1\" class=\"dataframe\">\n",
       "  <thead>\n",
       "    <tr style=\"text-align: right;\">\n",
       "      <th></th>\n",
       "      <th>RMSE</th>\n",
       "      <th>MAE</th>\n",
       "      <th>MAE_perc</th>\n",
       "    </tr>\n",
       "  </thead>\n",
       "  <tbody>\n",
       "    <tr>\n",
       "      <th>accelerated</th>\n",
       "      <td>13.134350</td>\n",
       "      <td>10.546351</td>\n",
       "      <td>0.110471</td>\n",
       "    </tr>\n",
       "    <tr>\n",
       "      <th>gradient</th>\n",
       "      <td>13.134350</td>\n",
       "      <td>10.546351</td>\n",
       "      <td>0.110471</td>\n",
       "    </tr>\n",
       "    <tr>\n",
       "      <th>dual_gradient</th>\n",
       "      <td>13.134350</td>\n",
       "      <td>10.546351</td>\n",
       "      <td>0.110471</td>\n",
       "    </tr>\n",
       "    <tr>\n",
       "      <th>lasso</th>\n",
       "      <td>13.136595</td>\n",
       "      <td>10.542879</td>\n",
       "      <td>0.110255</td>\n",
       "    </tr>\n",
       "  </tbody>\n",
       "</table>\n",
       "</div>"
      ],
      "text/plain": [
       "                    RMSE        MAE  MAE_perc\n",
       "accelerated    13.134350  10.546351  0.110471\n",
       "gradient       13.134350  10.546351  0.110471\n",
       "dual_gradient  13.134350  10.546351  0.110471\n",
       "lasso          13.136595  10.542879  0.110255"
      ]
     },
     "execution_count": 9,
     "metadata": {},
     "output_type": "execute_result"
    }
   ],
   "source": [
    "models_tested=test_functions.test_models(X_train,y_train)\n",
    "test_functions.models_quality(X_test,y_test,models_tested)"
   ]
  },
  {
   "cell_type": "markdown",
   "id": "391f6c21",
   "metadata": {},
   "source": [
    "### Problem 5"
   ]
  },
  {
   "cell_type": "code",
   "execution_count": 10,
   "id": "c60c763c",
   "metadata": {},
   "outputs": [],
   "source": [
    "n_samples=10000\n",
    "n_features=1000\n",
    "n_informative=50\n",
    "X, y, coef = datasets.make_regression(n_samples = n_samples,#number of samples\n",
    "                                      n_features = n_features,#number of features\n",
    "                                      n_informative = n_informative,#number of useful features\n",
    "                                      noise = 10,#bias and standard deviation of the guassian noise\n",
    "                                      coef = True #true coefficient used to generated the data\n",
    "                                      )\n",
    "X_train, X_test, y_train, y_test = train_test_split(X,y,test_size=0.3)"
   ]
  },
  {
   "cell_type": "code",
   "execution_count": 11,
   "id": "105fc2db",
   "metadata": {
    "scrolled": false
   },
   "outputs": [
    {
     "name": "stdout",
     "output_type": "stream",
     "text": [
      "accelerated  early stopping at  53\n",
      "399.42572787384745\n",
      "gradient  early stopping at  22\n",
      "399.42572787350133\n",
      "dual_gradient  early stopping at  22\n",
      "399.4257278735532\n"
     ]
    },
    {
     "data": {
      "text/html": [
       "<div>\n",
       "<style scoped>\n",
       "    .dataframe tbody tr th:only-of-type {\n",
       "        vertical-align: middle;\n",
       "    }\n",
       "\n",
       "    .dataframe tbody tr th {\n",
       "        vertical-align: top;\n",
       "    }\n",
       "\n",
       "    .dataframe thead th {\n",
       "        text-align: right;\n",
       "    }\n",
       "</style>\n",
       "<table border=\"1\" class=\"dataframe\">\n",
       "  <thead>\n",
       "    <tr style=\"text-align: right;\">\n",
       "      <th></th>\n",
       "      <th>RMSE</th>\n",
       "      <th>MAE</th>\n",
       "      <th>MAE_perc</th>\n",
       "    </tr>\n",
       "  </thead>\n",
       "  <tbody>\n",
       "    <tr>\n",
       "      <th>accelerated</th>\n",
       "      <td>12.269104</td>\n",
       "      <td>9.806272</td>\n",
       "      <td>0.145073</td>\n",
       "    </tr>\n",
       "    <tr>\n",
       "      <th>gradient</th>\n",
       "      <td>12.269104</td>\n",
       "      <td>9.806272</td>\n",
       "      <td>0.145073</td>\n",
       "    </tr>\n",
       "    <tr>\n",
       "      <th>dual_gradient</th>\n",
       "      <td>12.269104</td>\n",
       "      <td>9.806272</td>\n",
       "      <td>0.145073</td>\n",
       "    </tr>\n",
       "    <tr>\n",
       "      <th>lasso</th>\n",
       "      <td>12.270392</td>\n",
       "      <td>9.812361</td>\n",
       "      <td>0.146524</td>\n",
       "    </tr>\n",
       "  </tbody>\n",
       "</table>\n",
       "</div>"
      ],
      "text/plain": [
       "                    RMSE       MAE  MAE_perc\n",
       "accelerated    12.269104  9.806272  0.145073\n",
       "gradient       12.269104  9.806272  0.145073\n",
       "dual_gradient  12.269104  9.806272  0.145073\n",
       "lasso          12.270392  9.812361  0.146524"
      ]
     },
     "execution_count": 11,
     "metadata": {},
     "output_type": "execute_result"
    }
   ],
   "source": [
    "models_tested=test_functions.test_models(X_train,y_train)\n",
    "test_functions.models_quality(X_test,y_test,models_tested)"
   ]
  },
  {
   "cell_type": "markdown",
   "id": "e1bddb2c",
   "metadata": {},
   "source": [
    "## Problem 6"
   ]
  },
  {
   "cell_type": "code",
   "execution_count": 12,
   "id": "a7c65311",
   "metadata": {
    "scrolled": false
   },
   "outputs": [
    {
     "name": "stderr",
     "output_type": "stream",
     "text": [
      "C:\\ProgramData\\Anaconda3\\lib\\site-packages\\sklearn\\utils\\deprecation.py:87: FutureWarning: Function load_boston is deprecated; `load_boston` is deprecated in 1.0 and will be removed in 1.2.\n",
      "\n",
      "    The Boston housing prices dataset has an ethical problem. You can refer to\n",
      "    the documentation of this function for further details.\n",
      "\n",
      "    The scikit-learn maintainers therefore strongly discourage the use of this\n",
      "    dataset unless the purpose of the code is to study and educate about\n",
      "    ethical issues in data science and machine learning.\n",
      "\n",
      "    In this special case, you can fetch the dataset from the original\n",
      "    source::\n",
      "\n",
      "        import pandas as pd\n",
      "        import numpy as np\n",
      "\n",
      "        data_url = \"http://lib.stat.cmu.edu/datasets/boston\"\n",
      "        raw_df = pd.read_csv(data_url, sep=\"\\s+\", skiprows=22, header=None)\n",
      "        data = np.hstack([raw_df.values[::2, :], raw_df.values[1::2, :2]])\n",
      "        target = raw_df.values[1::2, 2]\n",
      "\n",
      "    Alternative datasets include the California housing dataset (i.e.\n",
      "    :func:`~sklearn.datasets.fetch_california_housing`) and the Ames housing\n",
      "    dataset. You can load the datasets as follows::\n",
      "\n",
      "        from sklearn.datasets import fetch_california_housing\n",
      "        housing = fetch_california_housing()\n",
      "\n",
      "    for the California housing dataset and::\n",
      "\n",
      "        from sklearn.datasets import fetch_openml\n",
      "        housing = fetch_openml(name=\"house_prices\", as_frame=True)\n",
      "\n",
      "    for the Ames housing dataset.\n",
      "  warnings.warn(msg, category=FutureWarning)\n"
     ]
    }
   ],
   "source": [
    "X,y= load_boston(return_X_y=True)\n",
    "X_train, X_test, y_train, y_test = train_test_split(X,y,test_size=0.3)"
   ]
  },
  {
   "cell_type": "code",
   "execution_count": 13,
   "id": "6e88ec4d",
   "metadata": {},
   "outputs": [
    {
     "name": "stdout",
     "output_type": "stream",
     "text": [
      "4.502182150209017\n",
      "0.38985681427841534\n",
      "0.3896931878773764\n"
     ]
    },
    {
     "data": {
      "text/html": [
       "<div>\n",
       "<style scoped>\n",
       "    .dataframe tbody tr th:only-of-type {\n",
       "        vertical-align: middle;\n",
       "    }\n",
       "\n",
       "    .dataframe tbody tr th {\n",
       "        vertical-align: top;\n",
       "    }\n",
       "\n",
       "    .dataframe thead th {\n",
       "        text-align: right;\n",
       "    }\n",
       "</style>\n",
       "<table border=\"1\" class=\"dataframe\">\n",
       "  <thead>\n",
       "    <tr style=\"text-align: right;\">\n",
       "      <th></th>\n",
       "      <th>RMSE</th>\n",
       "      <th>MAE</th>\n",
       "      <th>MAE_perc</th>\n",
       "    </tr>\n",
       "  </thead>\n",
       "  <tbody>\n",
       "    <tr>\n",
       "      <th>accelerated</th>\n",
       "      <td>5.918083</td>\n",
       "      <td>3.997443</td>\n",
       "      <td>0.195166</td>\n",
       "    </tr>\n",
       "    <tr>\n",
       "      <th>gradient</th>\n",
       "      <td>8.079013</td>\n",
       "      <td>5.928660</td>\n",
       "      <td>0.307068</td>\n",
       "    </tr>\n",
       "    <tr>\n",
       "      <th>dual_gradient</th>\n",
       "      <td>8.079079</td>\n",
       "      <td>5.928474</td>\n",
       "      <td>0.307054</td>\n",
       "    </tr>\n",
       "    <tr>\n",
       "      <th>lasso</th>\n",
       "      <td>5.700601</td>\n",
       "      <td>3.961310</td>\n",
       "      <td>0.186472</td>\n",
       "    </tr>\n",
       "  </tbody>\n",
       "</table>\n",
       "</div>"
      ],
      "text/plain": [
       "                   RMSE       MAE  MAE_perc\n",
       "accelerated    5.918083  3.997443  0.195166\n",
       "gradient       8.079013  5.928660  0.307068\n",
       "dual_gradient  8.079079  5.928474  0.307054\n",
       "lasso          5.700601  3.961310  0.186472"
      ]
     },
     "execution_count": 13,
     "metadata": {},
     "output_type": "execute_result"
    }
   ],
   "source": [
    "models_tested=test_functions.test_models(X_train,y_train)\n",
    "test_functions.models_quality(X_test,y_test,models_tested)"
   ]
  },
  {
   "cell_type": "code",
   "execution_count": 14,
   "id": "46ec9b12",
   "metadata": {
    "scrolled": false
   },
   "outputs": [
    {
     "name": "stdout",
     "output_type": "stream",
     "text": [
      "[-7.77896844e-02  3.08374971e-02 -1.11152800e-04  0.00000000e+00\n",
      "  0.00000000e+00  4.46672912e+00  4.90051901e-03 -2.97844148e-01\n",
      "  4.63784359e-02 -5.66277707e-03 -1.33648638e-01  1.38545760e-02\n",
      " -4.49445036e-01]\n",
      "[-0.09536965  0.10260758 -0.06316325  0.          0.          0.11817311\n",
      "  0.07005721  0.          0.          0.0031098   0.06945478  0.04939976\n",
      " -0.31973143]\n",
      "[-0.0951861   0.10264452 -0.06287123  0.          0.          0.11821168\n",
      "  0.07002769  0.          0.          0.00309338  0.06963015  0.04939746\n",
      " -0.31958689]\n"
     ]
    }
   ],
   "source": [
    "for model in models_tested[:-1]:\n",
    "    print(model.get_coef())"
   ]
  },
  {
   "cell_type": "markdown",
   "id": "fb4e9fae",
   "metadata": {},
   "source": [
    "## Problem 7"
   ]
  },
  {
   "cell_type": "code",
   "execution_count": 15,
   "id": "8bdef525",
   "metadata": {},
   "outputs": [],
   "source": [
    "X,y = fetch_california_housing(return_X_y=True)\n",
    "X_train, X_test, y_train, y_test = train_test_split(X,y,test_size=0.3)"
   ]
  },
  {
   "cell_type": "code",
   "execution_count": 16,
   "id": "1ece190d",
   "metadata": {},
   "outputs": [
    {
     "name": "stdout",
     "output_type": "stream",
     "text": [
      "0.16625819904345623\n",
      "0.016327884544276496\n",
      "0.016327884544276524\n",
      "                   RMSE       MAE  MAE_perc\n",
      "accelerated    0.952480  0.751921  0.529212\n",
      "gradient       1.147995  0.910743  0.647044\n",
      "dual_gradient  1.147995  0.910743  0.647044\n",
      "lasso          0.975153  0.773741  0.547533\n",
      "[ 1.65744798e-01  8.65898868e-03  0.00000000e+00  0.00000000e+00\n",
      "  1.06087624e-05  0.00000000e+00  0.00000000e+00 -9.77099427e-03]\n",
      "[ 1.45914481e-03  4.67131092e-03  0.00000000e+00  0.00000000e+00\n",
      "  3.56720656e-06  0.00000000e+00  2.59335970e-03 -1.53598189e-02]\n",
      "[ 1.45914481e-03  4.67131092e-03  0.00000000e+00  0.00000000e+00\n",
      "  3.56720656e-06  0.00000000e+00  2.59335970e-03 -1.53598189e-02]\n",
      "[ 1.45149547e-01  6.64990528e-03  0.00000000e+00 -0.00000000e+00\n",
      " -4.44696362e-06 -0.00000000e+00 -0.00000000e+00 -0.00000000e+00]\n"
     ]
    }
   ],
   "source": [
    "models_tested=test_functions.test_models(X_train,y_train)\n",
    "print(test_functions.models_quality(X_test,y_test,models_tested))\n",
    "test_functions.show_coef(models_tested)"
   ]
  }
 ],
 "metadata": {
  "kernelspec": {
   "display_name": "Python 3",
   "language": "python",
   "name": "python3"
  },
  "language_info": {
   "codemirror_mode": {
    "name": "ipython",
    "version": 3
   },
   "file_extension": ".py",
   "mimetype": "text/x-python",
   "name": "python",
   "nbconvert_exporter": "python",
   "pygments_lexer": "ipython3",
   "version": "3.8.8"
  }
 },
 "nbformat": 4,
 "nbformat_minor": 5
}
