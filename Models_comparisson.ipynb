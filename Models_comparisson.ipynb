{
 "cells": [
  {
   "cell_type": "code",
   "execution_count": 1,
   "id": "bee3ddf7",
   "metadata": {},
   "outputs": [],
   "source": [
    "%load_ext autoreload\n",
    "%autoreload 2\n",
    "from optimizers import Nesterov_Optimizers\n",
    "\n",
    "import numpy as np\n",
    "from sklearn import datasets\n",
    "from sklearn.model_selection import train_test_split\n",
    "import test_functions \n",
    "import random\n",
    "from sklearn.datasets import fetch_california_housing,load_boston"
   ]
  },
  {
   "cell_type": "markdown",
   "id": "a3ef6a96",
   "metadata": {},
   "source": [
    "Maximal number of iterations is currently set to 2500, the stopping criterion is from the paper"
   ]
  },
  {
   "cell_type": "markdown",
   "id": "cd6536e0",
   "metadata": {},
   "source": [
    "### Problem 1"
   ]
  },
  {
   "cell_type": "code",
   "execution_count": 2,
   "id": "bedf5d44",
   "metadata": {},
   "outputs": [],
   "source": [
    "n_samples=4000\n",
    "n_features=1000\n",
    "n_informative=100\n",
    "X, y, coef = datasets.make_regression(n_samples = n_samples,#number of samples\n",
    "                                      n_features = n_features,#number of features\n",
    "                                      n_informative = n_informative,#number of useful features\n",
    "                                      noise = 10,#bias and standard deviation of the guassian noise\n",
    "                                      coef = True #true coefficient used to generated the data\n",
    "                                     )\n",
    "X_train, X_test, y_train, y_test = train_test_split(X,y,test_size=0.3)"
   ]
  },
  {
   "cell_type": "code",
   "execution_count": null,
   "id": "f730f901",
   "metadata": {
    "scrolled": true
   },
   "outputs": [],
   "source": [
    "models_tested=test_functions.test_models(X_train,y_train)\n",
    "test_functions.models_quality(X_test,y_test,models_tested)"
   ]
  },
  {
   "cell_type": "markdown",
   "id": "61226dbc",
   "metadata": {},
   "source": [
    "### Problem 2"
   ]
  },
  {
   "cell_type": "code",
   "execution_count": null,
   "id": "a6075f38",
   "metadata": {},
   "outputs": [],
   "source": [
    "n_samples=5000\n",
    "n_features=500\n",
    "n_informative=100\n",
    "X, y, coef = datasets.make_regression(n_samples = n_samples,#number of samples\n",
    "                                      n_features = n_features,#number of features\n",
    "                                      n_informative = n_informative,#number of useful features\n",
    "                                      noise = 10,#bias and standard deviation of the guassian noise\n",
    "                                      coef = True #true coefficient used to generated the data\n",
    "                                      )\n",
    "X_train, X_test, y_train, y_test = train_test_split(X,y,test_size=0.3)"
   ]
  },
  {
   "cell_type": "code",
   "execution_count": null,
   "id": "ee38172e",
   "metadata": {},
   "outputs": [],
   "source": [
    "models_tested=test_functions.test_models(X_train,y_train)\n",
    "test_functions.models_quality(X_test,y_test,models_tested)"
   ]
  },
  {
   "cell_type": "markdown",
   "id": "76a45f32",
   "metadata": {},
   "source": [
    "### Problem 3"
   ]
  },
  {
   "cell_type": "code",
   "execution_count": null,
   "id": "297185a9",
   "metadata": {},
   "outputs": [],
   "source": [
    "n_samples=500\n",
    "n_features=50\n",
    "n_informative=25\n",
    "X, y, coef = datasets.make_regression(n_samples = n_samples,#number of samples\n",
    "                                      n_features = n_features,#number of features\n",
    "                                      n_informative = n_informative,#number of useful features\n",
    "                                      noise = 10,#bias and standard deviation of the guassian noise\n",
    "                                      coef = True #true coefficient used to generated the data\n",
    "                                      )\n",
    "X_train, X_test, y_train, y_test = train_test_split(X,y,test_size=0.3)"
   ]
  },
  {
   "cell_type": "code",
   "execution_count": null,
   "id": "82218e75",
   "metadata": {},
   "outputs": [],
   "source": [
    "models_tested=test_functions.test_models(X_train,y_train)\n",
    "test_functions.models_quality(X_test,y_test,models_tested)"
   ]
  },
  {
   "cell_type": "markdown",
   "id": "e0913aaa",
   "metadata": {},
   "source": [
    "### Problem 4"
   ]
  },
  {
   "cell_type": "code",
   "execution_count": null,
   "id": "f9144a7c",
   "metadata": {},
   "outputs": [],
   "source": [
    "n_samples=1000\n",
    "n_features=100\n",
    "n_informative=50\n",
    "X, y, coef = datasets.make_regression(n_samples = n_samples,#number of samples\n",
    "                                      n_features = n_features,#number of features\n",
    "                                      n_informative = n_informative,#number of useful features\n",
    "                                      noise = 10,#bias and standard deviation of the guassian noise\n",
    "                                      coef = True #true coefficient used to generated the data\n",
    "                                      )\n",
    "X_train, X_test, y_train, y_test = train_test_split(X,y,test_size=0.3)"
   ]
  },
  {
   "cell_type": "code",
   "execution_count": null,
   "id": "cb0746fe",
   "metadata": {
    "scrolled": true
   },
   "outputs": [],
   "source": [
    "models_tested=test_functions.test_models(X_train,y_train)\n",
    "test_functions.models_quality(X_test,y_test,models_tested)"
   ]
  },
  {
   "cell_type": "markdown",
   "id": "03825f2b",
   "metadata": {},
   "source": [
    "### Problem 5"
   ]
  },
  {
   "cell_type": "code",
   "execution_count": null,
   "id": "1e2a9463",
   "metadata": {},
   "outputs": [],
   "source": [
    "n_samples=10000\n",
    "n_features=1000\n",
    "n_informative=50\n",
    "X, y, coef = datasets.make_regression(n_samples = n_samples,#number of samples\n",
    "                                      n_features = n_features,#number of features\n",
    "                                      n_informative = n_informative,#number of useful features\n",
    "                                      noise = 10,#bias and standard deviation of the guassian noise\n",
    "                                      coef = True #true coefficient used to generated the data\n",
    "                                      )\n",
    "X_train, X_test, y_train, y_test = train_test_split(X,y,test_size=0.3)"
   ]
  },
  {
   "cell_type": "code",
   "execution_count": null,
   "id": "f497e142",
   "metadata": {
    "scrolled": false
   },
   "outputs": [],
   "source": [
    "models_tested=test_functions.test_models(X_train,y_train)\n",
    "test_functions.models_quality(X_test,y_test,models_tested)"
   ]
  },
  {
   "cell_type": "markdown",
   "id": "b3985589",
   "metadata": {},
   "source": [
    "## Problem 6"
   ]
  },
  {
   "cell_type": "code",
   "execution_count": null,
   "id": "5c7871a2",
   "metadata": {
    "scrolled": false
   },
   "outputs": [],
   "source": [
    "X,y= load_boston(return_X_y=True)\n",
    "X_train, X_test, y_train, y_test = train_test_split(X,y,test_size=0.3)"
   ]
  },
  {
   "cell_type": "code",
   "execution_count": null,
   "id": "a464f912",
   "metadata": {},
   "outputs": [],
   "source": [
    "models_tested=test_functions.test_models(X_train,y_train)\n",
    "print(test_functions.models_quality(X_test,y_test,models_tested))\n",
    "test_functions.show_coef(models_tested)\n",
    "test_functions.count_zero_coef(models_tested)"
   ]
  },
  {
   "cell_type": "markdown",
   "id": "7d875029",
   "metadata": {},
   "source": [
    "## Problem 7"
   ]
  },
  {
   "cell_type": "code",
   "execution_count": null,
   "id": "3f7f1403",
   "metadata": {},
   "outputs": [],
   "source": [
    "X,y = fetch_california_housing(return_X_y=True)\n",
    "X_train, X_test, y_train, y_test = train_test_split(X,y,test_size=0.3)"
   ]
  },
  {
   "cell_type": "code",
   "execution_count": null,
   "id": "c57b9ed8",
   "metadata": {
    "scrolled": true
   },
   "outputs": [],
   "source": [
    "models_tested=test_functions.test_models(X_train,y_train)\n",
    "print(test_functions.models_quality(X_test,y_test,models_tested))\n",
    "test_functions.show_coef(models_tested)\n",
    "test_functions.count_zero_coef(models_tested)"
   ]
  }
 ],
 "metadata": {
  "kernelspec": {
   "display_name": "Python 3",
   "language": "python",
   "name": "python3"
  },
  "language_info": {
   "codemirror_mode": {
    "name": "ipython",
    "version": 3
   },
   "file_extension": ".py",
   "mimetype": "text/x-python",
   "name": "python",
   "nbconvert_exporter": "python",
   "pygments_lexer": "ipython3",
   "version": "3.8.8"
  }
 },
 "nbformat": 4,
 "nbformat_minor": 5
}