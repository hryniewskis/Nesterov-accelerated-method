{
 "cells": [
  {
   "cell_type": "code",
   "execution_count": null,
   "id": "1074f389",
   "metadata": {
    "scrolled": true
   },
   "outputs": [],
   "source": [
    "%load_ext autoreload\n",
    "%autoreload 2\n",
    "from optimizers import Nesterov_Optimizers\n",
    "import numpy as np\n",
    "from sklearn import datasets\n",
    "from sklearn.linear_model import Lasso\n",
    "\n",
    "n_samples=10000\n",
    "n_features=50\n",
    "X, y, coef = datasets.make_regression(n_samples = n_samples,#number of samples\n",
    "                                      n_features = n_features,#number of features\n",
    "                                      n_informative = 25,#number of useful features\n",
    "                                      noise = 10,#bias and standard deviation of the guassian noise\n",
    "                                      coef = True,#true coefficient used to generated the data\n",
    "                                      random_state = 0)"
   ]
  },
  {
   "cell_type": "code",
   "execution_count": null,
   "id": "737fb31f",
   "metadata": {
    "scrolled": true
   },
   "outputs": [],
   "source": [
    "%%time\n",
    "Nesterov = Nesterov_Optimizers().fit(X,y,method=\"gradient_method\")"
   ]
  },
  {
   "cell_type": "code",
   "execution_count": null,
   "id": "9037b4aa",
   "metadata": {
    "scrolled": true
   },
   "outputs": [],
   "source": [
    "%%time\n",
    "Nesterov_dual = Nesterov_Optimizers().fit(X,y,method=\"dual_gradient_method\")"
   ]
  },
  {
   "cell_type": "code",
   "execution_count": null,
   "id": "7aebb334",
   "metadata": {
    "scrolled": false
   },
   "outputs": [],
   "source": [
    "%%time\n",
    "las = Lasso(alpha=1./n_samples).fit(X, y)"
   ]
  },
  {
   "cell_type": "code",
   "execution_count": null,
   "id": "5b93c041",
   "metadata": {
    "scrolled": false
   },
   "outputs": [],
   "source": [
    "res_lasso=np.linalg.norm(las.coef_-coef,ord=1)\n",
    "res_basic=np.linalg.norm(Nesterov-coef,ord=1)\n",
    "res_dual=np.linalg.norm(Nesterov_dual-coef,ord=1)\n",
    "print(\"gradient method:     \",  res_basic,\n",
    "      \"\\ndual gradient method:\",res_dual,\n",
    "      \"\\nlasso from sklearn:  \",res_lasso)"
   ]
  }
 ],
 "metadata": {
  "kernelspec": {
   "display_name": "Python 3",
   "language": "python",
   "name": "python3"
  },
  "language_info": {
   "codemirror_mode": {
    "name": "ipython",
    "version": 3
   },
   "file_extension": ".py",
   "mimetype": "text/x-python",
   "name": "python",
   "nbconvert_exporter": "python",
   "pygments_lexer": "ipython3",
   "version": "3.8.8"
  }
 },
 "nbformat": 4,
 "nbformat_minor": 5
}
