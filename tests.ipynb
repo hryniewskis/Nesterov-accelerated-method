{
 "cells": [
  {
   "cell_type": "code",
   "execution_count": 1,
   "id": "1074f389",
   "metadata": {},
   "outputs": [],
   "source": [
    "%load_ext autoreload\n",
    "%autoreload 2\n",
    "from optimizers import Nesterov_Optimizers\n",
    "\n",
    "import numpy as np\n",
    "from sklearn import datasets\n",
    "from sklearn.metrics import mean_squared_error\n",
    "from sklearn.linear_model import Lasso\n",
    "from sklearn.model_selection import train_test_split\n",
    "\n",
    "n_samples=4000\n",
    "n_features=70\n",
    "X, y, coef = datasets.make_regression(n_samples = n_samples,#number of samples\n",
    "                                      n_features = n_features,#number of features\n",
    "                                      n_informative = 32,#number of useful features\n",
    "                                      noise = 10,#bias and standard deviation of the guassian noise\n",
    "                                      coef = True,#true coefficient used to generated the data\n",
    "                                      random_state = 0)"
   ]
  },
  {
   "cell_type": "code",
   "execution_count": 2,
   "id": "8e9a490d",
   "metadata": {},
   "outputs": [],
   "source": [
    "X_train, X_test, y_train, y_test = train_test_split(X,y,test_size=0.3)"
   ]
  },
  {
   "cell_type": "code",
   "execution_count": 3,
   "id": "d148835a",
   "metadata": {
    "scrolled": false
   },
   "outputs": [
    {
     "name": "stdout",
     "output_type": "stream",
     "text": [
      "250321.39643872232 23076.482678540917 239034.25439877028\n",
      "130423.25976393737 22208.580365903257 118429.38699972368\n",
      "63969.211355481 20768.29963003263 50950.44906491514\n",
      "33865.31454416383 17972.863871521662 19727.11838729521\n",
      "22312.357973772436 16316.555930719136 8989.765190045036\n",
      "18052.351453967458 16242.670849901577 5625.874160757421\n",
      "16748.205559795915 16216.272562895247 3299.5531714329622\n",
      "16574.390523187554 16207.93795533702 1789.932858078854\n",
      "16592.122407862797 16205.23170914529 1066.0809250930313\n",
      "16535.759593823695 16203.662279326172 725.364737470973\n",
      "16427.287579186577 16202.378658068628 496.45938144318535\n",
      "16326.927532823904 16201.42904437867 334.8995736275669\n",
      "16261.32712075977 16200.8416013136 232.91279404276406\n",
      "16228.395045742538 16200.535601102933 167.62452809518823\n",
      "16215.582791020013 16200.398823428905 121.55778243282123\n",
      "16211.53855566043 16200.341925961666 88.19166428143309\n",
      "16209.800768034278 16200.313588188648 64.45564910261633\n",
      "16208.034226501142 16200.292790990736 47.50759211639331\n",
      "16206.040897618064 16200.27477214004 35.16193484029424\n",
      "16204.21977429693 16200.260191206009 26.083665052256762\n",
      "16202.851176998485 16200.249840459652 19.407298641281663\n",
      "16201.96227403748 16200.243348087712 14.486062058005572\n",
      "16201.4316582631 16200.23961604867 10.839495327922757\n",
      "16201.113493805215 16200.237507413873 8.126986779192945\n",
      "16200.90257128685 16200.236217418076 6.105227939158393\n",
      "16200.744149833634 16200.235315151484 4.595317172939514\n",
      "16200.617643967858 16200.234624656354 3.4649534954199894\n",
      "16200.51752345643 16200.234090261063 2.616879489170956\n",
      "16200.441414875515 16200.233690261857 1.9794618047507626\n",
      "16200.385794974824 16200.233402207241 1.4995758689484477\n",
      "16200.34599900363 16200.233198755845 1.1376841604888872\n",
      "16200.317461508457 16200.23305363454 0.8643371843483317\n",
      "16200.296597581315 16200.232946590377 0.6575627170681568\n",
      "16200.280991266724 16200.232864480935 0.5009242762923187\n",
      "16200.269146329181 16200.23279972215 0.38210015010818477\n",
      "16200.26013020369 16200.232748047445 0.2918391685792727\n",
      "16200.25330190605 16200.232706774748 0.22318490371521243\n",
      "16200.248166641746 16200.232673877385 0.1708978150178265\n",
      "16200.244321535574 16200.232647651554 0.13102538688569418\n",
      "16200.241442606366 16200.232626665595 0.10058181768426282\n",
      "16200.239279830726 16200.232609772065 0.07730854119648127\n",
      "16200.237647785096 16200.232596092734 0.05949481522792771\n",
      "16200.236411958133 16200.23258497005 0.04584316235105991\n",
      "16200.23547473299 16200.232575907887 0.03536830741758628\n",
      "16200.234764050392 16200.232568521173 0.027321140112827373\n",
      "16200.23422559736 16200.232562501691 0.02113142130454376\n",
      "16200.233817885544 16200.232557597901 0.01636455545484806\n",
      "16200.233509147412 16200.232553603379 0.012688934740869642\n",
      "16200.233275188522 16200.232550349241 0.009851238795562638\n",
      "16200.233097716753 16200.232547698028 0.00765772612531666\n",
      "16200.232962970063 16200.23254553816 0.0059600495897780765\n",
      "16200.232860602053 16200.232543779051 0.004644487704060953\n",
      "16200.232782812325 16200.232542346967 0.0036237607871854576\n",
      "16200.23272369601 16200.232541181724 0.0028308039391121763\n",
      "16200.232678769265 16200.232540234118 0.0022140242156448086\n",
      "16200.232644622423 16200.232539463896 0.0017336838517432271\n",
      "16200.232618663316 16200.232538838152 0.001359139261269714\n",
      "16200.232598923325 16200.232538330023 0.0010667315094499423\n",
      "16200.232583908779 16200.232537917582 0.0008381716648263113\n",
      "16200.232572486322 16200.232537582962 0.0006593045754468697\n",
      "16200.232563795733 16200.232537311598 0.0005191613350599798\n",
      "16200.232557183212 16200.23253709163 0.0004092312081689565\n",
      "16200.232552151801 16200.232536913398 0.0003229027059277899\n",
      "16200.232548323553 16200.232536769041 0.00025503353143341615\n",
      "16200.232545410669 16200.232536652167 0.00020161873870266767\n",
      "16200.232543194334 16200.232536557574 0.00015953559359600588\n",
      "16200.232541508027 16200.232536481046 0.00012634619051039945\n",
      "16200.232540225132 16200.232536419147 0.00010014516031371822\n",
      "16200.232539249126 16200.2325363691 7.944111771541145e-05\n",
      "accelerated  early stopping at  68\n",
      "Wall time: 344 ms\n"
     ]
    }
   ],
   "source": [
    "%%time\n",
    "Nesterov_accelerated = Nesterov_Optimizers()#gamma_u=1.9,gamma_d=2.5,lambda_=18)\n",
    "Nesterov_accelerated.fit(X_train,y_train, method=\"accelerated\",verbose=True)"
   ]
  },
  {
   "cell_type": "code",
   "execution_count": 4,
   "id": "320db0cb",
   "metadata": {
    "scrolled": false
   },
   "outputs": [
    {
     "name": "stdout",
     "output_type": "stream",
     "text": [
      "250282.5955115035 23078.522052444325 239028.43599133304\n",
      "97704.22494294026 21975.29487821384 87371.88933100263\n",
      "45912.90070983001 19811.677678112672 34630.04999720114\n",
      "26960.52517479623 16922.691554248853 13092.361597723828\n",
      "19900.279739836045 16242.73659337685 4842.5047054510105\n",
      "17488.12832423897 16212.001407601394 1881.6113242657973\n",
      "16668.530079219647 16204.007910773165 739.6633433937426\n",
      "16375.784401016002 16201.553454193847 292.508288940246\n",
      "16267.292265682743 16200.717654272452 116.08285000881013\n",
      "16226.148938259794 16200.415579177781 46.170153312970015\n",
      "16210.324853558548 16200.30269045464 18.39037683570803\n",
      "16204.183562925931 16200.259683671155 7.332513321225761\n",
      "16201.785375880114 16200.243107586617 2.925611237369986\n",
      "16200.844670808403 16200.236670600545 1.1678698512628305\n",
      "16200.474414271934 16200.234158150759 0.46636605575871537\n",
      "16200.328293863678 16200.233173946483 0.1862829159081229\n",
      "16200.27050473189 16200.232787378065 0.07442245511303305\n",
      "16200.247610115845 16200.232635242268 0.029737158505371335\n",
      "16200.238526977339 16200.232575277938 0.011883513655653936\n",
      "16200.234919152786 16200.232551615574 0.004749300476681429\n",
      "16200.233484739085 16200.232542269872 0.0018982179591523543\n",
      "16200.232343223224 16200.232534882389 0.00038085651370688156\n",
      "16200.232575705324 16200.232536427155 7.650521477316273e-05\n",
      "gradient  early stopping at  22\n",
      "Wall time: 88 ms\n"
     ]
    }
   ],
   "source": [
    "%%time\n",
    "Nesterov = Nesterov_Optimizers()#gamma_u=1.9,gamma_d=2.5,lambda_=18)\n",
    "Nesterov.fit(X_train,y_train,method=\"gradient\",verbose=True)"
   ]
  },
  {
   "cell_type": "code",
   "execution_count": 5,
   "id": "49d0a89d",
   "metadata": {
    "scrolled": false
   },
   "outputs": [
    {
     "name": "stdout",
     "output_type": "stream",
     "text": [
      "249957.8442685816 22908.55507475008 238686.25483386542\n",
      "97560.43532724952 21973.3541140769 87213.34016195053\n",
      "45930.85691055883 19811.534970204553 34613.69067087554\n",
      "27126.147464281537 16925.278891667025 13224.311348493862\n",
      "19958.36370352022 16243.063565574146 4898.060186180815\n",
      "17508.662288459676 16212.080414266396 1903.1269623566395\n",
      "16675.834340804675 16204.033280882873 747.9229850256627\n",
      "16378.435411846029 16201.563608788987 295.69346434043786\n",
      "16268.270995183524 16200.722102317517 117.31989046908167\n",
      "16226.514879642727 16200.417560933663 46.65376479706736\n",
      "16210.462986433951 16200.303565265252 18.580458398555898\n",
      "16204.236097125557 16200.260063781512 7.407533914794514\n",
      "16201.805479245291 16200.243270158691 2.955311968977401\n",
      "16200.852404243025 16200.23673917133 1.1796552272171472\n",
      "16200.47740274722 16200.234186735517 0.47105027480972456\n",
      "16200.329453330549 16200.233185746963 0.18814691332297886\n",
      "16200.270956167042 16200.232792210603 0.0751648220402809\n",
      "16200.247786429105 16200.232637208235 0.030032993359852243\n",
      "16200.238596028536 16200.232576073382 0.012001453409131096\n",
      "16200.23494626186 16200.232551935971 0.0047963328657302075\n",
      "16200.233495404842 16200.232542398446 0.001916977497644625\n",
      "16200.232340965998 16200.232534856692 0.0003846511510147167\n",
      "16200.232576193983 16200.232536432084 7.727520119013411e-05\n",
      "dual_gradient  early stopping at  22\n",
      "Wall time: 93.1 ms\n"
     ]
    }
   ],
   "source": [
    "%%time\n",
    "Nesterov_dual = Nesterov_Optimizers()#gamma_u=1.9,gamma_d=2.5,lambda_=18)\n",
    "Nesterov_dual.fit(X_train,y_train,method=\"dual_gradient\",verbose=True)"
   ]
  },
  {
   "cell_type": "code",
   "execution_count": 6,
   "id": "12f47dfa",
   "metadata": {
    "scrolled": true
   },
   "outputs": [
    {
     "name": "stdout",
     "output_type": "stream",
     "text": [
      "Wall time: 0 ns\n"
     ]
    },
    {
     "data": {
      "text/html": [
       "<style>#sk-container-id-1 {color: black;background-color: white;}#sk-container-id-1 pre{padding: 0;}#sk-container-id-1 div.sk-toggleable {background-color: white;}#sk-container-id-1 label.sk-toggleable__label {cursor: pointer;display: block;width: 100%;margin-bottom: 0;padding: 0.3em;box-sizing: border-box;text-align: center;}#sk-container-id-1 label.sk-toggleable__label-arrow:before {content: \"▸\";float: left;margin-right: 0.25em;color: #696969;}#sk-container-id-1 label.sk-toggleable__label-arrow:hover:before {color: black;}#sk-container-id-1 div.sk-estimator:hover label.sk-toggleable__label-arrow:before {color: black;}#sk-container-id-1 div.sk-toggleable__content {max-height: 0;max-width: 0;overflow: hidden;text-align: left;background-color: #f0f8ff;}#sk-container-id-1 div.sk-toggleable__content pre {margin: 0.2em;color: black;border-radius: 0.25em;background-color: #f0f8ff;}#sk-container-id-1 input.sk-toggleable__control:checked~div.sk-toggleable__content {max-height: 200px;max-width: 100%;overflow: auto;}#sk-container-id-1 input.sk-toggleable__control:checked~label.sk-toggleable__label-arrow:before {content: \"▾\";}#sk-container-id-1 div.sk-estimator input.sk-toggleable__control:checked~label.sk-toggleable__label {background-color: #d4ebff;}#sk-container-id-1 div.sk-label input.sk-toggleable__control:checked~label.sk-toggleable__label {background-color: #d4ebff;}#sk-container-id-1 input.sk-hidden--visually {border: 0;clip: rect(1px 1px 1px 1px);clip: rect(1px, 1px, 1px, 1px);height: 1px;margin: -1px;overflow: hidden;padding: 0;position: absolute;width: 1px;}#sk-container-id-1 div.sk-estimator {font-family: monospace;background-color: #f0f8ff;border: 1px dotted black;border-radius: 0.25em;box-sizing: border-box;margin-bottom: 0.5em;}#sk-container-id-1 div.sk-estimator:hover {background-color: #d4ebff;}#sk-container-id-1 div.sk-parallel-item::after {content: \"\";width: 100%;border-bottom: 1px solid gray;flex-grow: 1;}#sk-container-id-1 div.sk-label:hover label.sk-toggleable__label {background-color: #d4ebff;}#sk-container-id-1 div.sk-serial::before {content: \"\";position: absolute;border-left: 1px solid gray;box-sizing: border-box;top: 0;bottom: 0;left: 50%;z-index: 0;}#sk-container-id-1 div.sk-serial {display: flex;flex-direction: column;align-items: center;background-color: white;padding-right: 0.2em;padding-left: 0.2em;position: relative;}#sk-container-id-1 div.sk-item {position: relative;z-index: 1;}#sk-container-id-1 div.sk-parallel {display: flex;align-items: stretch;justify-content: center;background-color: white;position: relative;}#sk-container-id-1 div.sk-item::before, #sk-container-id-1 div.sk-parallel-item::before {content: \"\";position: absolute;border-left: 1px solid gray;box-sizing: border-box;top: 0;bottom: 0;left: 50%;z-index: -1;}#sk-container-id-1 div.sk-parallel-item {display: flex;flex-direction: column;z-index: 1;position: relative;background-color: white;}#sk-container-id-1 div.sk-parallel-item:first-child::after {align-self: flex-end;width: 50%;}#sk-container-id-1 div.sk-parallel-item:last-child::after {align-self: flex-start;width: 50%;}#sk-container-id-1 div.sk-parallel-item:only-child::after {width: 0;}#sk-container-id-1 div.sk-dashed-wrapped {border: 1px dashed gray;margin: 0 0.4em 0.5em 0.4em;box-sizing: border-box;padding-bottom: 0.4em;background-color: white;}#sk-container-id-1 div.sk-label label {font-family: monospace;font-weight: bold;display: inline-block;line-height: 1.2em;}#sk-container-id-1 div.sk-label-container {text-align: center;}#sk-container-id-1 div.sk-container {/* jupyter's `normalize.less` sets `[hidden] { display: none; }` but bootstrap.min.css set `[hidden] { display: none !important; }` so we also need the `!important` here to be able to override the default hidden behavior on the sphinx rendered scikit-learn.org. See: https://github.com/scikit-learn/scikit-learn/issues/21755 */display: inline-block !important;position: relative;}#sk-container-id-1 div.sk-text-repr-fallback {display: none;}</style><div id=\"sk-container-id-1\" class=\"sk-top-container\"><div class=\"sk-text-repr-fallback\"><pre>Lasso()</pre><b>In a Jupyter environment, please rerun this cell to show the HTML representation or trust the notebook. <br />On GitHub, the HTML representation is unable to render, please try loading this page with nbviewer.org.</b></div><div class=\"sk-container\" hidden><div class=\"sk-item\"><div class=\"sk-estimator sk-toggleable\"><input class=\"sk-toggleable__control sk-hidden--visually\" id=\"sk-estimator-id-1\" type=\"checkbox\" checked><label for=\"sk-estimator-id-1\" class=\"sk-toggleable__label sk-toggleable__label-arrow\">Lasso</label><div class=\"sk-toggleable__content\"><pre>Lasso()</pre></div></div></div></div></div>"
      ],
      "text/plain": [
       "Lasso()"
      ]
     },
     "execution_count": 6,
     "metadata": {},
     "output_type": "execute_result"
    }
   ],
   "source": [
    "%%time\n",
    "las = Lasso()\n",
    "las.fit(X_train, y_train)"
   ]
  },
  {
   "cell_type": "code",
   "execution_count": 7,
   "id": "45af64bd",
   "metadata": {},
   "outputs": [
    {
     "name": "stdout",
     "output_type": "stream",
     "text": [
      "145.07826174405653 145.07826197850005 145.07826198172262 145.06044516092007\n"
     ]
    }
   ],
   "source": [
    "print(mean_squared_error(y_test,Nesterov_accelerated.predict(X_test)),\n",
    "mean_squared_error(y_test,Nesterov.predict(X_test)),\n",
    "mean_squared_error(y_test,Nesterov_dual.predict(X_test)),\n",
    "mean_squared_error(y_test,las.predict(X_test)))"
   ]
  },
  {
   "cell_type": "code",
   "execution_count": 8,
   "id": "b37853b3",
   "metadata": {
    "scrolled": false
   },
   "outputs": [
    {
     "data": {
      "text/plain": [
       "(array([48.93887667,  0.        ,  0.        ,  9.90083976,  0.        ,\n",
       "         0.        ,  0.        , 48.81633101,  0.        , 80.5086684 ,\n",
       "         0.        ,  0.        , 48.76361317, 45.76448083,  0.        ,\n",
       "         0.        ,  0.        , 54.01846988,  0.        ,  0.        ,\n",
       "         0.        , 60.75779446,  0.        ,  0.        , 41.03530018,\n",
       "        94.30491207,  5.25614314,  0.        , 56.98341967,  0.        ,\n",
       "        57.0012844 ,  1.04179215,  0.        ,  0.        , 69.45829801,\n",
       "         0.        , 69.70305927,  0.        , 56.63166337, 49.68130168,\n",
       "        58.14929474, 30.9587231 , 51.50609546,  0.        ,  0.        ,\n",
       "        54.61669806,  0.        ,  0.        , 84.0424886 ,  0.        ,\n",
       "         0.        , 53.69121907, 56.74336392,  0.        , 49.74255113,\n",
       "         0.        , 23.75564974,  0.        ,  0.        ,  0.        ,\n",
       "        68.32606501,  0.        , 64.537516  ,  0.        , 55.10103486,\n",
       "         0.        , 77.61927249, 78.10012755,  0.        ,  0.        ]),\n",
       " array([48.93896003, -0.        , -0.        ,  9.89880632, -0.        ,\n",
       "         0.        , -0.        , 48.81786122, -0.        , 80.50942759,\n",
       "        -0.        , -0.        , 48.76353471, 45.76503647, -0.        ,\n",
       "         0.        ,  0.        , 54.01833662, -0.        , -0.        ,\n",
       "        -0.        , 60.75596425, -0.        ,  0.        , 41.03496106,\n",
       "        94.30373039,  5.25723276, -0.        , 56.98331636,  0.        ,\n",
       "        57.00090618,  1.04078029,  0.        , -0.        , 69.45831738,\n",
       "         0.        , 69.70386849,  0.        , 56.63206085, 49.68115173,\n",
       "        58.14887497, 30.95989034, 51.50751178, -0.        ,  0.        ,\n",
       "        54.61614588,  0.        ,  0.        , 84.04047617, -0.        ,\n",
       "        -0.        , 53.69115921, 56.74224933, -0.        , 49.73993545,\n",
       "         0.        , 23.75560517, -0.        , -0.        , -0.        ,\n",
       "        68.32456245,  0.        , 64.53808282,  0.        , 55.10096382,\n",
       "        -0.        , 77.62144386, 78.10084795,  0.        ,  0.        ]))"
      ]
     },
     "execution_count": 8,
     "metadata": {},
     "output_type": "execute_result"
    }
   ],
   "source": [
    "Nesterov_accelerated.get_coef(),las.coef_"
   ]
  },
  {
   "cell_type": "code",
   "execution_count": 9,
   "id": "038d6f1d",
   "metadata": {},
   "outputs": [
    {
     "name": "stdout",
     "output_type": "stream",
     "text": [
      "gradient method:      36.31556120556358 \n",
      "dual gradient method: 36.31556120680324 \n",
      "accelerated method:   36.31556110870596 \n",
      "lasso from sklearn:   36.319907043325806\n"
     ]
    }
   ],
   "source": [
    "res_lasso=np.linalg.norm(las.coef_-coef,ord=1)\n",
    "res_basic=np.linalg.norm(Nesterov.get_coef()-coef,ord=1)\n",
    "res_dual=np.linalg.norm(Nesterov_dual.get_coef()-coef,ord=1)\n",
    "res_acc=np.linalg.norm(Nesterov_accelerated.get_coef()-coef,ord=1)\n",
    "#res_acc\n",
    "print(\"gradient method:     \",  res_basic,\n",
    "      \"\\ndual gradient method:\",res_dual,\n",
    "      \"\\naccelerated method:  \",res_acc,\n",
    "      \"\\nlasso from sklearn:  \",res_lasso)"
   ]
  }
 ],
 "metadata": {
  "kernelspec": {
   "display_name": "Python 3",
   "language": "python",
   "name": "python3"
  },
  "language_info": {
   "codemirror_mode": {
    "name": "ipython",
    "version": 3
   },
   "file_extension": ".py",
   "mimetype": "text/x-python",
   "name": "python",
   "nbconvert_exporter": "python",
   "pygments_lexer": "ipython3",
   "version": "3.8.8"
  }
 },
 "nbformat": 4,
 "nbformat_minor": 5
}
