{
 "cells": [
  {
   "cell_type": "code",
   "execution_count": 1,
   "id": "1074f389",
   "metadata": {},
   "outputs": [],
   "source": [
    "%load_ext autoreload\n",
    "%autoreload 2\n",
    "from optimizers import Nesterov_Optimizers\n",
    "\n",
    "import numpy as np\n",
    "from sklearn import datasets\n",
    "from sklearn.metrics import mean_squared_error\n",
    "from sklearn.linear_model import Lasso\n",
    "from sklearn.model_selection import train_test_split\n",
    "\n",
    "n_samples=4000\n",
    "n_features=70\n",
    "X, y, coef = datasets.make_regression(n_samples = n_samples,#number of samples\n",
    "                                      n_features = n_features,#number of features\n",
    "                                      n_informative = 32,#number of useful features\n",
    "                                      noise = 10,#bias and standard deviation of the guassian noise\n",
    "                                      coef = True,#true coefficient used to generated the data\n",
    "                                      random_state = 0)"
   ]
  },
  {
   "cell_type": "code",
   "execution_count": 2,
   "id": "8e9a490d",
   "metadata": {},
   "outputs": [],
   "source": [
    "X_train, X_test, y_train, y_test = train_test_split(X,y,test_size=0.3)"
   ]
  },
  {
   "cell_type": "code",
   "execution_count": 3,
   "id": "d148835a",
   "metadata": {
    "scrolled": false
   },
   "outputs": [
    {
     "name": "stdout",
     "output_type": "stream",
     "text": [
      "accelerated  early stopping at  82\n",
      "Wall time: 1.56 s\n"
     ]
    }
   ],
   "source": [
    "%%time\n",
    "Nesterov_accelerated = Nesterov_Optimizers()#gamma_u=1.9,gamma_d=2.5,lambda_=18)\n",
    "Nesterov_accelerated.fit(X_train,y_train, method=\"accelerated\")#,verbose=True)"
   ]
  },
  {
   "cell_type": "code",
   "execution_count": null,
   "id": "320db0cb",
   "metadata": {
    "scrolled": false
   },
   "outputs": [],
   "source": [
    "%%time\n",
    "Nesterov = Nesterov_Optimizers()#gamma_u=1.9,gamma_d=2.5,lambda_=18)\n",
    "Nesterov.fit(X_train,y_train,method=\"gradient\")#,verbose=True)"
   ]
  },
  {
   "cell_type": "code",
   "execution_count": null,
   "id": "49d0a89d",
   "metadata": {
    "scrolled": false
   },
   "outputs": [],
   "source": [
    "%%time\n",
    "Nesterov_dual = Nesterov_Optimizers()#gamma_u=1.9,gamma_d=2.5,lambda_=18)\n",
    "Nesterov_dual.fit(X_train,y_train,method=\"dual_gradient\")#,verbose=True)"
   ]
  },
  {
   "cell_type": "code",
   "execution_count": null,
   "id": "12f47dfa",
   "metadata": {
    "scrolled": true
   },
   "outputs": [],
   "source": [
    "%%time\n",
    "las = Lasso()\n",
    "las.fit(X_train, y_train)"
   ]
  },
  {
   "cell_type": "code",
   "execution_count": null,
   "id": "45af64bd",
   "metadata": {},
   "outputs": [],
   "source": [
    "print(mean_squared_error(y_test,Nesterov_accelerated.predict(X_test)),\n",
    "mean_squared_error(y_test,Nesterov.predict(X_test)),\n",
    "mean_squared_error(y_test,Nesterov_dual.predict(X_test)),\n",
    "mean_squared_error(y_test,las.predict(X_test)))"
   ]
  },
  {
   "cell_type": "code",
   "execution_count": null,
   "id": "99ccbe6b",
   "metadata": {
    "scrolled": false
   },
   "outputs": [],
   "source": [
    "Nesterov_accelerated.get_coef(),las.coef_"
   ]
  },
  {
   "cell_type": "code",
   "execution_count": null,
   "id": "7747d8fb",
   "metadata": {},
   "outputs": [],
   "source": [
    "res_lasso=np.linalg.norm(las.coef_-coef,ord=1)\n",
    "res_basic=np.linalg.norm(Nesterov.get_coef()-coef,ord=1)\n",
    "res_dual=np.linalg.norm(Nesterov_dual.get_coef()-coef,ord=1)\n",
    "res_acc=np.linalg.norm(Nesterov_accelerated.get_coef()-coef,ord=1)\n",
    "#res_acc\n",
    "print(\"gradient method:     \",  res_basic,\n",
    "      \"\\ndual gradient method:\",res_dual,\n",
    "      \"\\naccelerated method:  \",res_acc,\n",
    "      \"\\nlasso from sklearn:  \",res_lasso)"
   ]
  }
 ],
 "metadata": {
  "kernelspec": {
   "display_name": "Python 3",
   "language": "python",
   "name": "python3"
  },
  "language_info": {
   "codemirror_mode": {
    "name": "ipython",
    "version": 3
   },
   "file_extension": ".py",
   "mimetype": "text/x-python",
   "name": "python",
   "nbconvert_exporter": "python",
   "pygments_lexer": "ipython3",
   "version": "3.8.8"
  }
 },
 "nbformat": 4,
 "nbformat_minor": 5
}
