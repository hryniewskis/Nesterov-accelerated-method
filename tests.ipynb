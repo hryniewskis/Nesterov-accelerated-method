{
 "cells": [
  {
   "cell_type": "code",
   "execution_count": 1,
   "id": "1074f389",
   "metadata": {},
   "outputs": [],
   "source": [
    "%load_ext autoreload\n",
    "%autoreload 2\n",
    "from optimizers import Nesterov_Optimizers\n",
    "\n",
    "import numpy as np\n",
    "from sklearn import datasets\n",
    "from sklearn.metrics import mean_squared_error\n",
    "from sklearn.linear_model import Lasso\n",
    "from sklearn.model_selection import train_test_split\n",
    "\n",
    "n_samples=4000\n",
    "n_features=70\n",
    "X, y, coef = datasets.make_regression(n_samples = n_samples,#number of samples\n",
    "                                      n_features = n_features,#number of features\n",
    "                                      n_informative = 32,#number of useful features\n",
    "                                      noise = 10,#bias and standard deviation of the guassian noise\n",
    "                                      coef = True,#true coefficient used to generated the data\n",
    "                                      random_state = 0)"
   ]
  },
  {
   "cell_type": "code",
   "execution_count": 2,
   "id": "8e9a490d",
   "metadata": {},
   "outputs": [],
   "source": [
    "X_train, X_test, y_train, y_test = train_test_split(X,y,test_size=0.3)"
   ]
  },
  {
   "cell_type": "code",
   "execution_count": 3,
   "id": "d148835a",
   "metadata": {
    "scrolled": false
   },
   "outputs": [
    {
     "name": "stdout",
     "output_type": "stream",
     "text": [
      "264676.491292858 22939.73768819044 252916.9679702792\n",
      "136305.29404341528 22104.298135503537 123947.13908285041\n",
      "65310.6756961004 20304.979203191735 51939.321705208145\n",
      "32910.399885579296 17509.9946291076 18188.81541292939\n",
      "20668.045198938875 16315.365534258939 7403.430923710415\n",
      "16983.075998992364 16259.188033162533 4937.048871145724\n",
      "16210.122446796233 16244.652531029187 3065.574415596282\n",
      "16352.553509763378 16243.621923589968 1743.0675468170093\n",
      "16531.3131048641 16246.081183021191 1085.6015415157617\n",
      "16549.155716911126 16248.280446665158 750.6097566534858\n",
      "16471.147764291803 16249.56078640568 512.7981369748961\n",
      "16381.223504579595 16250.154189862893 343.79692500322324\n",
      "16318.06117500909 16250.365194400787 236.88519052425923\n",
      "16284.951200948331 16250.412758193072 168.09071392009048\n",
      "16271.323779787195 16250.422423773427 119.79617534454152\n",
      "16266.374971002842 16250.445697673236 85.48475029972347\n",
      "16263.759466569394 16250.489315814752 61.65884994148251\n",
      "16261.192365142857 16250.542101273104 44.96380432724649\n",
      "16258.52326535379 16250.59176259797 32.96868989586733\n",
      "16256.176707586952 16250.631541068396 24.277660357354907\n",
      "16254.425678136084 16250.660357679766 17.983678497298776\n",
      "16253.267432789165 16250.68036220285 13.397856753119198\n",
      "16252.545498730336 16250.694484481648 10.02453025492805\n",
      "16252.086047845178 16250.705046069132 7.5285879123041015\n",
      "16251.766556173196 16250.713409905109 5.675466244588848\n",
      "16251.523350449199 16250.72020661688 4.293522081090051\n",
      "16251.33127439664 16250.725697943462 3.257846413093108\n",
      "16251.18157490596 16250.730040873668 2.4785885029015633\n",
      "16251.068725757172 16250.733402533622 1.8903950831453649\n",
      "16250.986067901304 16250.735972247394 1.4450396133536738\n",
      "16250.926191967546 16250.737934321736 1.1068195373921497\n",
      "16250.882451445907 16250.739443058204 0.8492853416542105\n",
      "16250.849859360858 16250.740614039725 0.6527395870435816\n",
      "16250.825113938145 16250.741528741952 0.5024239604189868\n",
      "16250.806145461873 16250.742244442537 0.387241637384446\n",
      "16250.791606349472 16250.742803311468 0.2988273760554555\n",
      "16250.78051892245 16250.743238287121 0.23085477917425484\n",
      "16250.772104217105 16250.743576006824 0.17852375477248683\n",
      "16250.765725961097 16250.74383804302 0.1381828629668017\n",
      "16250.760878307265 16250.744041544078 0.10704839638110204\n",
      "16250.757175956685 16250.744199843235 0.08299365196558801\n",
      "16250.754335022508 16250.744323156661 0.06439060206932906\n",
      "16250.752148632188 16250.744419287515 0.04999077622746407\n",
      "16250.750464270159 16250.74449423251 0.03883528360943132\n",
      "16250.74916682616 16250.744552644132 0.030186586385893537\n",
      "16250.74816763711 16250.744598158102 0.023476648593756377\n",
      "16250.747397836716 16250.74463362221 0.01826745670277236\n",
      "16250.74680408841 16250.744661263137 0.014220889679846601\n",
      "16250.746345412223 16250.744682815985 0.011075676449068086\n",
      "16250.745990534466 16250.744699629064 0.008629742323264454\n",
      "16250.745715636762 16250.744712749194 0.006726664070229784\n",
      "16250.745502525955 16250.744722989803 0.005245261358987315\n",
      "16250.745337229868 16250.74473098404 0.004091588409471892\n",
      "16250.745208963906 16250.744737225505 0.003192763618804801\n",
      "16250.745109380525 16250.744742099298 0.0024922111686827165\n",
      "16250.745032016335 16250.744745905915 0.001945986973430951\n",
      "16250.74497187108 16250.744748879739 0.0015199392643362375\n",
      "16250.74492507979 16250.744751203534 0.0011875133271003742\n",
      "16250.744888655014 16250.744753019799 0.0009280506868744127\n",
      "16250.744860285315 16250.744754439671 0.0007254729633723664\n",
      "16250.74483817954 16250.744755549873 0.0005672609315281839\n",
      "16250.744820947435 16250.744756418102 0.00044366234161574345\n",
      "16250.744807509302 16250.744757097214 0.0003470774974220075\n",
      "16250.74479702527 16250.74475762851 0.00027158209817602826\n",
      "16250.744788842554 16250.744758044237 0.0002125558982845631\n",
      "16250.744782453567 16250.744758369601 0.00016639466518526762\n",
      "16250.744777463224 16250.744758624285 0.00013028575052996438\n",
      "16250.744773563889 16250.744758823685 0.0001020335893709774\n",
      "16250.744770516103 16250.744758979821 7.992356612503521e-05\n",
      "accelerated  early stopping at  68\n",
      "Wall time: 1.53 s\n"
     ]
    }
   ],
   "source": [
    "%%time\n",
    "Nesterov_accelerated = Nesterov_Optimizers()#gamma_u=1.9,gamma_d=2.5,lambda_=18)\n",
    "Nesterov_accelerated.fit(X_train,y_train, method=\"accelerated\",verbose=True)"
   ]
  },
  {
   "cell_type": "code",
   "execution_count": 4,
   "id": "320db0cb",
   "metadata": {
    "scrolled": false
   },
   "outputs": [
    {
     "name": "stdout",
     "output_type": "stream",
     "text": [
      "264676.491292858 22939.73768819044 252916.9679702792\n",
      "105604.63063959776 21610.33074876402 95317.02923779748\n",
      "49730.02082560629 19727.894006687275 38752.30826820261\n",
      "28759.077853825445 17421.623403149293 15764.466248999453\n",
      "20803.71162661522 16290.269863409012 5805.638099864157\n",
      "17847.778693708293 16256.549773813824 2272.0199639580915\n",
      "16833.1591523903 16250.93756007624 907.4217547052075\n",
      "16469.588613475342 16250.268163896953 367.57545420714206\n",
      "16334.73250984417 16250.388727476988 150.42567969535568\n",
      "16283.478146921303 16250.548428411817 62.022504691053186\n",
      "16263.655209266428 16250.647664763295 25.71438721625639\n",
      "16255.886337369277 16250.69929896939 10.704927792786851\n",
      "16252.809092050276 16250.72415200609 4.4701353796459005\n",
      "16251.579358986472 16250.735612513718 1.870928839439726\n",
      "16251.084210439836 16250.740758161503 0.7844267352991507\n",
      "16250.883539597698 16250.743027448112 0.3293285870576459\n",
      "16250.801753360574 16250.744015614418 0.13840722625059404\n",
      "16250.768256817517 16250.744441929 0.05821633671010645\n",
      "16250.754479578874 16250.744624565596 0.02450287218560501\n",
      "16250.748792089822 16250.744702388922 0.010318636685926223\n",
      "16250.74643671774 16250.744735411688 0.00434731459780474\n",
      "16250.745458601597 16250.744749378187 0.0018322423025539714\n",
      "16250.744644312326 16250.744761161304 0.000288026864281703\n",
      "16250.744779317298 16250.744759298706 4.5819358613563605e-05\n",
      "gradient  early stopping at  23\n",
      "Wall time: 462 ms\n"
     ]
    }
   ],
   "source": [
    "%%time\n",
    "Nesterov = Nesterov_Optimizers()#gamma_u=1.9,gamma_d=2.5,lambda_=18)\n",
    "Nesterov.fit(X_train,y_train,method=\"gradient\",verbose=True)"
   ]
  },
  {
   "cell_type": "code",
   "execution_count": 5,
   "id": "49d0a89d",
   "metadata": {
    "scrolled": false
   },
   "outputs": [
    {
     "name": "stdout",
     "output_type": "stream",
     "text": [
      "264676.491292858 22939.73768819044 252916.9679702792\n",
      "105604.63063959776 21610.33074876402 95317.0292377975\n",
      "49778.31759460309 19534.816548469527 38697.53083278357\n",
      "28965.270716546624 17806.02199649658 16157.232210352342\n",
      "20883.432782502547 16290.955996171719 5889.731183054283\n",
      "17877.07868768642 16256.759706218025 2306.6123282714625\n",
      "16844.083331166777 16251.007614363429 921.5540766874086\n",
      "16473.75351437585 16250.291950601708 373.3616573816014\n",
      "16336.346485107573 16250.396630359066 152.80778963191435\n",
      "16284.110446927405 16250.550932360364 63.00933555414116\n",
      "16263.904895662246 16250.64839791897 26.125573050353793\n",
      "16255.985578669764 16250.699484231793 10.877092730953825\n",
      "16252.848767174877 16250.724183309232 4.542499025212757\n",
      "16251.595306949002 16250.735608259754 1.901433208550256\n",
      "16251.090654001004 16250.740749929546 0.7973131750223859\n",
      "16250.886155706356 16250.743021620687 0.334780719454885\n",
      "16250.802820350049 16250.7440122996 0.14071640694594614\n",
      "16250.768693829814 16250.744440220256 0.059195047389867195\n",
      "16250.754659260689 16250.74462373252 0.024917867279122766\n",
      "16250.748866227099 16250.744701996935 0.01049464850293412\n",
      "16250.74646740361 16250.744735231674 0.004421975350646516\n",
      "16250.745471338445 16250.744749296942 0.001863912689116317\n",
      "16250.745471338445 16250.744749296942 0.001863912689116317\n",
      "16250.745471338445 16250.744749296942 0.001863912689116317\n",
      "16250.745471338445 16250.744749296942 0.001863912689116317\n",
      "16250.745471338445 16250.744749296942 0.001863912689116317\n",
      "16250.745471338445 16250.744749296942 0.001863912689116317\n",
      "16250.745471338445 16250.744749296942 0.001863912689116317\n",
      "16250.745471338445 16250.744749296942 0.001863912689116317\n",
      "16250.745471338445 16250.744749296942 0.001863912689116317\n",
      "16250.745471338445 16250.744749296942 0.001863912689116317\n",
      "16250.745471338445 16250.744749296942 0.001863912689116317\n",
      "16250.745471338445 16250.744749296942 0.001863912689116317\n",
      "16250.745471338445 16250.744749296942 0.001863912689116317\n",
      "16250.744759545305 16250.744759545321 1.2820972323756792e-10\n",
      "dual_gradient  early stopping at  34\n",
      "Wall time: 515 ms\n"
     ]
    }
   ],
   "source": [
    "%%time\n",
    "Nesterov_dual = Nesterov_Optimizers()#gamma_u=1.9,gamma_d=2.5,lambda_=18)\n",
    "Nesterov_dual.fit(X_train,y_train,method=\"dual_gradient\",verbose=True)"
   ]
  },
  {
   "cell_type": "code",
   "execution_count": 6,
   "id": "12f47dfa",
   "metadata": {
    "scrolled": true
   },
   "outputs": [
    {
     "name": "stdout",
     "output_type": "stream",
     "text": [
      "Wall time: 8.99 ms\n"
     ]
    },
    {
     "data": {
      "text/html": [
       "<style>#sk-container-id-1 {color: black;background-color: white;}#sk-container-id-1 pre{padding: 0;}#sk-container-id-1 div.sk-toggleable {background-color: white;}#sk-container-id-1 label.sk-toggleable__label {cursor: pointer;display: block;width: 100%;margin-bottom: 0;padding: 0.3em;box-sizing: border-box;text-align: center;}#sk-container-id-1 label.sk-toggleable__label-arrow:before {content: \"▸\";float: left;margin-right: 0.25em;color: #696969;}#sk-container-id-1 label.sk-toggleable__label-arrow:hover:before {color: black;}#sk-container-id-1 div.sk-estimator:hover label.sk-toggleable__label-arrow:before {color: black;}#sk-container-id-1 div.sk-toggleable__content {max-height: 0;max-width: 0;overflow: hidden;text-align: left;background-color: #f0f8ff;}#sk-container-id-1 div.sk-toggleable__content pre {margin: 0.2em;color: black;border-radius: 0.25em;background-color: #f0f8ff;}#sk-container-id-1 input.sk-toggleable__control:checked~div.sk-toggleable__content {max-height: 200px;max-width: 100%;overflow: auto;}#sk-container-id-1 input.sk-toggleable__control:checked~label.sk-toggleable__label-arrow:before {content: \"▾\";}#sk-container-id-1 div.sk-estimator input.sk-toggleable__control:checked~label.sk-toggleable__label {background-color: #d4ebff;}#sk-container-id-1 div.sk-label input.sk-toggleable__control:checked~label.sk-toggleable__label {background-color: #d4ebff;}#sk-container-id-1 input.sk-hidden--visually {border: 0;clip: rect(1px 1px 1px 1px);clip: rect(1px, 1px, 1px, 1px);height: 1px;margin: -1px;overflow: hidden;padding: 0;position: absolute;width: 1px;}#sk-container-id-1 div.sk-estimator {font-family: monospace;background-color: #f0f8ff;border: 1px dotted black;border-radius: 0.25em;box-sizing: border-box;margin-bottom: 0.5em;}#sk-container-id-1 div.sk-estimator:hover {background-color: #d4ebff;}#sk-container-id-1 div.sk-parallel-item::after {content: \"\";width: 100%;border-bottom: 1px solid gray;flex-grow: 1;}#sk-container-id-1 div.sk-label:hover label.sk-toggleable__label {background-color: #d4ebff;}#sk-container-id-1 div.sk-serial::before {content: \"\";position: absolute;border-left: 1px solid gray;box-sizing: border-box;top: 0;bottom: 0;left: 50%;z-index: 0;}#sk-container-id-1 div.sk-serial {display: flex;flex-direction: column;align-items: center;background-color: white;padding-right: 0.2em;padding-left: 0.2em;position: relative;}#sk-container-id-1 div.sk-item {position: relative;z-index: 1;}#sk-container-id-1 div.sk-parallel {display: flex;align-items: stretch;justify-content: center;background-color: white;position: relative;}#sk-container-id-1 div.sk-item::before, #sk-container-id-1 div.sk-parallel-item::before {content: \"\";position: absolute;border-left: 1px solid gray;box-sizing: border-box;top: 0;bottom: 0;left: 50%;z-index: -1;}#sk-container-id-1 div.sk-parallel-item {display: flex;flex-direction: column;z-index: 1;position: relative;background-color: white;}#sk-container-id-1 div.sk-parallel-item:first-child::after {align-self: flex-end;width: 50%;}#sk-container-id-1 div.sk-parallel-item:last-child::after {align-self: flex-start;width: 50%;}#sk-container-id-1 div.sk-parallel-item:only-child::after {width: 0;}#sk-container-id-1 div.sk-dashed-wrapped {border: 1px dashed gray;margin: 0 0.4em 0.5em 0.4em;box-sizing: border-box;padding-bottom: 0.4em;background-color: white;}#sk-container-id-1 div.sk-label label {font-family: monospace;font-weight: bold;display: inline-block;line-height: 1.2em;}#sk-container-id-1 div.sk-label-container {text-align: center;}#sk-container-id-1 div.sk-container {/* jupyter's `normalize.less` sets `[hidden] { display: none; }` but bootstrap.min.css set `[hidden] { display: none !important; }` so we also need the `!important` here to be able to override the default hidden behavior on the sphinx rendered scikit-learn.org. See: https://github.com/scikit-learn/scikit-learn/issues/21755 */display: inline-block !important;position: relative;}#sk-container-id-1 div.sk-text-repr-fallback {display: none;}</style><div id=\"sk-container-id-1\" class=\"sk-top-container\"><div class=\"sk-text-repr-fallback\"><pre>Lasso()</pre><b>In a Jupyter environment, please rerun this cell to show the HTML representation or trust the notebook. <br />On GitHub, the HTML representation is unable to render, please try loading this page with nbviewer.org.</b></div><div class=\"sk-container\" hidden><div class=\"sk-item\"><div class=\"sk-estimator sk-toggleable\"><input class=\"sk-toggleable__control sk-hidden--visually\" id=\"sk-estimator-id-1\" type=\"checkbox\" checked><label for=\"sk-estimator-id-1\" class=\"sk-toggleable__label sk-toggleable__label-arrow\">Lasso</label><div class=\"sk-toggleable__content\"><pre>Lasso()</pre></div></div></div></div></div>"
      ],
      "text/plain": [
       "Lasso()"
      ]
     },
     "execution_count": 6,
     "metadata": {},
     "output_type": "execute_result"
    }
   ],
   "source": [
    "%%time\n",
    "las = Lasso()\n",
    "las.fit(X_train, y_train)"
   ]
  },
  {
   "cell_type": "code",
   "execution_count": 7,
   "id": "45af64bd",
   "metadata": {},
   "outputs": [
    {
     "name": "stdout",
     "output_type": "stream",
     "text": [
      "130.7119201513289 130.71192021571574 130.71192007961034 130.73893213592697\n"
     ]
    }
   ],
   "source": [
    "print(mean_squared_error(y_test,Nesterov_accelerated.predict(X_test)),\n",
    "mean_squared_error(y_test,Nesterov.predict(X_test)),\n",
    "mean_squared_error(y_test,Nesterov_dual.predict(X_test)),\n",
    "mean_squared_error(y_test,las.predict(X_test)))"
   ]
  },
  {
   "cell_type": "code",
   "execution_count": 8,
   "id": "b37853b3",
   "metadata": {
    "scrolled": false
   },
   "outputs": [
    {
     "data": {
      "text/plain": [
       "(array([49.00342988,  0.        ,  0.        , 10.19876687,  0.        ,\n",
       "         0.        ,  0.        , 48.50928857,  0.        , 80.40653756,\n",
       "         0.        ,  0.        , 48.8596489 , 45.90765647,  0.        ,\n",
       "         0.        ,  0.        , 54.08296891,  0.        ,  0.        ,\n",
       "         0.        , 60.91044355,  0.        ,  0.        , 41.18792134,\n",
       "        94.20755742,  5.48652394,  0.        , 57.07848631,  0.        ,\n",
       "        57.21333919,  1.30148749,  0.        ,  0.        , 69.4226868 ,\n",
       "         0.        , 69.7329733 ,  0.        , 56.56730199, 49.71452663,\n",
       "        58.13597411, 30.6936733 , 51.40466701,  0.        ,  0.        ,\n",
       "        54.35580879,  0.        ,  0.        , 83.69628706,  0.        ,\n",
       "         0.        , 53.89486343, 56.74645943,  0.        , 49.89371746,\n",
       "         0.        , 23.66691167,  0.        ,  0.        ,  0.        ,\n",
       "        68.57566061,  0.        , 64.40595228,  0.        , 54.67886543,\n",
       "         0.        , 77.53950265, 78.18190686,  0.        ,  0.        ]),\n",
       " array([49.00078213, -0.        , -0.        , 10.1945744 , -0.        ,\n",
       "         0.        ,  0.        , 48.50678578,  0.        , 80.40699538,\n",
       "        -0.        ,  0.        , 48.86088465, 45.9099406 ,  0.        ,\n",
       "         0.        ,  0.        , 54.08343679, -0.        ,  0.        ,\n",
       "         0.        , 60.91012788, -0.        ,  0.        , 41.18756911,\n",
       "        94.20665833,  5.49096825, -0.        , 57.07729447,  0.        ,\n",
       "        57.21306699,  1.29952675,  0.        , -0.        , 69.41816378,\n",
       "        -0.        , 69.73480232,  0.        , 56.56721664, 49.71687688,\n",
       "        58.13339495, 30.6975904 , 51.41009015,  0.        ,  0.        ,\n",
       "        54.35041977,  0.        ,  0.        , 83.69328112, -0.        ,\n",
       "        -0.        , 53.89105207, 56.74419551, -0.        , 49.88894068,\n",
       "        -0.        , 23.66395668, -0.        , -0.        , -0.        ,\n",
       "        68.57378872,  0.        , 64.40698307,  0.        , 54.67776414,\n",
       "        -0.        , 77.54154781, 78.18543461,  0.        ,  0.        ]))"
      ]
     },
     "execution_count": 8,
     "metadata": {},
     "output_type": "execute_result"
    }
   ],
   "source": [
    "Nesterov_accelerated.get_coef(),las.coef_"
   ]
  },
  {
   "cell_type": "code",
   "execution_count": 9,
   "id": "038d6f1d",
   "metadata": {},
   "outputs": [
    {
     "name": "stdout",
     "output_type": "stream",
     "text": [
      "gradient method:      36.11011375453834 \n",
      "dual gradient method: 36.11011370223429 \n",
      "accelerated method:   36.110113721993464 \n",
      "lasso from sklearn:   36.12779812231968\n"
     ]
    }
   ],
   "source": [
    "res_lasso=np.linalg.norm(las.coef_-coef,ord=1)\n",
    "res_basic=np.linalg.norm(Nesterov.get_coef()-coef,ord=1)\n",
    "res_dual=np.linalg.norm(Nesterov_dual.get_coef()-coef,ord=1)\n",
    "res_acc=np.linalg.norm(Nesterov_accelerated.get_coef()-coef,ord=1)\n",
    "#res_acc\n",
    "print(\"gradient method:     \",  res_basic,\n",
    "      \"\\ndual gradient method:\",res_dual,\n",
    "      \"\\naccelerated method:  \",res_acc,\n",
    "      \"\\nlasso from sklearn:  \",res_lasso)"
   ]
  },
  {
   "cell_type": "code",
   "execution_count": null,
   "id": "ae345575",
   "metadata": {},
   "outputs": [],
   "source": [
    "np.array([[1,2],[0,0],[1000,1]])*np.array([1,10])"
   ]
  }
 ],
 "metadata": {
  "kernelspec": {
   "display_name": "Python 3",
   "language": "python",
   "name": "python3"
  },
  "language_info": {
   "codemirror_mode": {
    "name": "ipython",
    "version": 3
   },
   "file_extension": ".py",
   "mimetype": "text/x-python",
   "name": "python",
   "nbconvert_exporter": "python",
   "pygments_lexer": "ipython3",
   "version": "3.8.8"
  }
 },
 "nbformat": 4,
 "nbformat_minor": 5
}