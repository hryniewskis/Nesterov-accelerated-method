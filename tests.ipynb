{
 "cells": [
  {
   "cell_type": "code",
   "execution_count": 1,
   "id": "1074f389",
   "metadata": {},
   "outputs": [],
   "source": [
    "%load_ext autoreload\n",
    "%autoreload 2\n",
    "from optimizers import Nesterov_Optimizers\n",
    "\n",
    "import numpy as np\n",
    "from sklearn import datasets\n",
    "from sklearn.metrics import mean_squared_error\n",
    "from sklearn.linear_model import Lasso\n",
    "from sklearn.model_selection import train_test_split\n",
    "\n",
    "n_samples=4000\n",
    "n_features=70\n",
    "X, y, coef = datasets.make_regression(n_samples = n_samples,#number of samples\n",
    "                                      n_features = n_features,#number of features\n",
    "                                      n_informative = 32,#number of useful features\n",
    "                                      noise = 10,#bias and standard deviation of the guassian noise\n",
    "                                      coef = True,#true coefficient used to generated the data\n",
    "                                      random_state = 0)"
   ]
  },
  {
   "cell_type": "code",
   "execution_count": 2,
   "id": "8e9a490d",
   "metadata": {},
   "outputs": [],
   "source": [
    "X_train, X_test, y_train, y_test = train_test_split(X,y,test_size=0.3)"
   ]
  },
  {
   "cell_type": "code",
   "execution_count": 3,
   "id": "d148835a",
   "metadata": {
    "scrolled": false
   },
   "outputs": [
    {
     "name": "stdout",
     "output_type": "stream",
     "text": [
      "accelerated  early stopping at  61\n",
      "Wall time: 2.06 s\n"
     ]
    }
   ],
   "source": [
    "%%time\n",
    "Nesterov_accelerated = Nesterov_Optimizers()#gamma_u=1.9,gamma_d=2.5,lambda_=18)\n",
    "Nesterov_accelerated.fit(X_train,y_train, method=\"accelerated\")#,verbose=True)"
   ]
  },
  {
   "cell_type": "code",
   "execution_count": 4,
   "id": "320db0cb",
   "metadata": {
    "scrolled": false
   },
   "outputs": [
    {
     "name": "stdout",
     "output_type": "stream",
     "text": [
      "gradient  early stopping at  1863\n",
      "Wall time: 23.1 s\n"
     ]
    }
   ],
   "source": [
    "%%time\n",
    "Nesterov = Nesterov_Optimizers()#gamma_u=1.9,gamma_d=2.5,lambda_=18)\n",
    "Nesterov.fit(X_train,y_train,method=\"gradient\")#,verbose=True)"
   ]
  },
  {
   "cell_type": "code",
   "execution_count": 5,
   "id": "49d0a89d",
   "metadata": {
    "scrolled": false
   },
   "outputs": [
    {
     "name": "stdout",
     "output_type": "stream",
     "text": [
      "dual_gradient  early stopping at  2103\n",
      "Wall time: 23.7 s\n"
     ]
    }
   ],
   "source": [
    "%%time\n",
    "Nesterov_dual = Nesterov_Optimizers()#gamma_u=1.9,gamma_d=2.5,lambda_=18)\n",
    "Nesterov_dual.fit(X_train,y_train,method=\"dual_gradient\")#,verbose=True)"
   ]
  },
  {
   "cell_type": "code",
   "execution_count": 6,
   "id": "12f47dfa",
   "metadata": {
    "scrolled": true
   },
   "outputs": [
    {
     "name": "stdout",
     "output_type": "stream",
     "text": [
      "Wall time: 8.06 ms\n"
     ]
    },
    {
     "data": {
      "text/html": [
       "<style>#sk-container-id-1 {color: black;background-color: white;}#sk-container-id-1 pre{padding: 0;}#sk-container-id-1 div.sk-toggleable {background-color: white;}#sk-container-id-1 label.sk-toggleable__label {cursor: pointer;display: block;width: 100%;margin-bottom: 0;padding: 0.3em;box-sizing: border-box;text-align: center;}#sk-container-id-1 label.sk-toggleable__label-arrow:before {content: \"▸\";float: left;margin-right: 0.25em;color: #696969;}#sk-container-id-1 label.sk-toggleable__label-arrow:hover:before {color: black;}#sk-container-id-1 div.sk-estimator:hover label.sk-toggleable__label-arrow:before {color: black;}#sk-container-id-1 div.sk-toggleable__content {max-height: 0;max-width: 0;overflow: hidden;text-align: left;background-color: #f0f8ff;}#sk-container-id-1 div.sk-toggleable__content pre {margin: 0.2em;color: black;border-radius: 0.25em;background-color: #f0f8ff;}#sk-container-id-1 input.sk-toggleable__control:checked~div.sk-toggleable__content {max-height: 200px;max-width: 100%;overflow: auto;}#sk-container-id-1 input.sk-toggleable__control:checked~label.sk-toggleable__label-arrow:before {content: \"▾\";}#sk-container-id-1 div.sk-estimator input.sk-toggleable__control:checked~label.sk-toggleable__label {background-color: #d4ebff;}#sk-container-id-1 div.sk-label input.sk-toggleable__control:checked~label.sk-toggleable__label {background-color: #d4ebff;}#sk-container-id-1 input.sk-hidden--visually {border: 0;clip: rect(1px 1px 1px 1px);clip: rect(1px, 1px, 1px, 1px);height: 1px;margin: -1px;overflow: hidden;padding: 0;position: absolute;width: 1px;}#sk-container-id-1 div.sk-estimator {font-family: monospace;background-color: #f0f8ff;border: 1px dotted black;border-radius: 0.25em;box-sizing: border-box;margin-bottom: 0.5em;}#sk-container-id-1 div.sk-estimator:hover {background-color: #d4ebff;}#sk-container-id-1 div.sk-parallel-item::after {content: \"\";width: 100%;border-bottom: 1px solid gray;flex-grow: 1;}#sk-container-id-1 div.sk-label:hover label.sk-toggleable__label {background-color: #d4ebff;}#sk-container-id-1 div.sk-serial::before {content: \"\";position: absolute;border-left: 1px solid gray;box-sizing: border-box;top: 0;bottom: 0;left: 50%;z-index: 0;}#sk-container-id-1 div.sk-serial {display: flex;flex-direction: column;align-items: center;background-color: white;padding-right: 0.2em;padding-left: 0.2em;position: relative;}#sk-container-id-1 div.sk-item {position: relative;z-index: 1;}#sk-container-id-1 div.sk-parallel {display: flex;align-items: stretch;justify-content: center;background-color: white;position: relative;}#sk-container-id-1 div.sk-item::before, #sk-container-id-1 div.sk-parallel-item::before {content: \"\";position: absolute;border-left: 1px solid gray;box-sizing: border-box;top: 0;bottom: 0;left: 50%;z-index: -1;}#sk-container-id-1 div.sk-parallel-item {display: flex;flex-direction: column;z-index: 1;position: relative;background-color: white;}#sk-container-id-1 div.sk-parallel-item:first-child::after {align-self: flex-end;width: 50%;}#sk-container-id-1 div.sk-parallel-item:last-child::after {align-self: flex-start;width: 50%;}#sk-container-id-1 div.sk-parallel-item:only-child::after {width: 0;}#sk-container-id-1 div.sk-dashed-wrapped {border: 1px dashed gray;margin: 0 0.4em 0.5em 0.4em;box-sizing: border-box;padding-bottom: 0.4em;background-color: white;}#sk-container-id-1 div.sk-label label {font-family: monospace;font-weight: bold;display: inline-block;line-height: 1.2em;}#sk-container-id-1 div.sk-label-container {text-align: center;}#sk-container-id-1 div.sk-container {/* jupyter's `normalize.less` sets `[hidden] { display: none; }` but bootstrap.min.css set `[hidden] { display: none !important; }` so we also need the `!important` here to be able to override the default hidden behavior on the sphinx rendered scikit-learn.org. See: https://github.com/scikit-learn/scikit-learn/issues/21755 */display: inline-block !important;position: relative;}#sk-container-id-1 div.sk-text-repr-fallback {display: none;}</style><div id=\"sk-container-id-1\" class=\"sk-top-container\"><div class=\"sk-text-repr-fallback\"><pre>Lasso()</pre><b>In a Jupyter environment, please rerun this cell to show the HTML representation or trust the notebook. <br />On GitHub, the HTML representation is unable to render, please try loading this page with nbviewer.org.</b></div><div class=\"sk-container\" hidden><div class=\"sk-item\"><div class=\"sk-estimator sk-toggleable\"><input class=\"sk-toggleable__control sk-hidden--visually\" id=\"sk-estimator-id-1\" type=\"checkbox\" checked><label for=\"sk-estimator-id-1\" class=\"sk-toggleable__label sk-toggleable__label-arrow\">Lasso</label><div class=\"sk-toggleable__content\"><pre>Lasso()</pre></div></div></div></div></div>"
      ],
      "text/plain": [
       "Lasso()"
      ]
     },
     "execution_count": 6,
     "metadata": {},
     "output_type": "execute_result"
    }
   ],
   "source": [
    "%%time\n",
    "las = Lasso()\n",
    "las.fit(X_train, y_train)"
   ]
  },
  {
   "cell_type": "code",
   "execution_count": 7,
   "id": "45af64bd",
   "metadata": {},
   "outputs": [
    {
     "name": "stdout",
     "output_type": "stream",
     "text": [
      "144.2650275864519 144.2650279425285 144.26502794312603 144.24975912915372\n"
     ]
    }
   ],
   "source": [
    "print(mean_squared_error(y_test,Nesterov_accelerated.predict(X_test)),\n",
    "mean_squared_error(y_test,Nesterov.predict(X_test)),\n",
    "mean_squared_error(y_test,Nesterov_dual.predict(X_test)),\n",
    "mean_squared_error(y_test,las.predict(X_test)))"
   ]
  },
  {
   "cell_type": "code",
   "execution_count": 8,
   "id": "5b93c041",
   "metadata": {
    "scrolled": false
   },
   "outputs": [
    {
     "name": "stdout",
     "output_type": "stream",
     "text": [
      "gradient method:      35.54965211448432 \n",
      "dual gradient method: 35.549652114788074 \n",
      "accelerated method:   35.549651931678 \n",
      "lasso from sklearn:   35.55235990479848\n"
     ]
    }
   ],
   "source": [
    "res_lasso=np.linalg.norm(las.coef_-coef,ord=1)\n",
    "res_basic=np.linalg.norm(Nesterov.get_coef()-coef,ord=1)\n",
    "res_dual=np.linalg.norm(Nesterov_dual.get_coef()-coef,ord=1)\n",
    "res_acc=np.linalg.norm(Nesterov_accelerated.get_coef()-coef,ord=1)\n",
    "#res_acc\n",
    "print(\"gradient method:     \",  res_basic,\n",
    "      \"\\ndual gradient method:\",res_dual,\n",
    "      \"\\naccelerated method:  \",res_acc,\n",
    "      \"\\nlasso from sklearn:  \",res_lasso)"
   ]
  },
  {
   "cell_type": "code",
   "execution_count": 9,
   "id": "3cab05ff",
   "metadata": {
    "scrolled": false
   },
   "outputs": [
    {
     "data": {
      "text/plain": [
       "(array([48.89203798,  0.        ,  0.        , 10.16110715,  0.        ,\n",
       "         0.        ,  0.        , 48.80551708,  0.        , 80.40058346,\n",
       "         0.        ,  0.        , 49.00590506, 45.8898119 ,  0.        ,\n",
       "         0.        ,  0.        , 54.0112686 ,  0.        ,  0.        ,\n",
       "         0.        , 60.51707543,  0.        ,  0.        , 41.11487576,\n",
       "        94.51110312,  5.45375564,  0.        , 56.96920502,  0.        ,\n",
       "        57.3029183 ,  1.12495149,  0.        ,  0.        , 69.59753016,\n",
       "         0.        , 69.84903518,  0.        , 56.44988368, 49.79808165,\n",
       "        57.88313395, 30.75256113, 51.43617304,  0.        ,  0.        ,\n",
       "        54.60382999,  0.        ,  0.        , 83.74771194,  0.        ,\n",
       "         0.        , 53.87924465, 56.9375769 ,  0.        , 49.87947446,\n",
       "         0.        , 23.67812643,  0.        ,  0.        ,  0.        ,\n",
       "        68.39351931,  0.        , 64.49489208,  0.        , 54.81873326,\n",
       "         0.        , 77.60268302, 78.25995023,  0.        ,  0.        ]),\n",
       " array([50.30342493,  0.        ,  0.        , 11.30767566,  0.        ,\n",
       "         0.        ,  0.        , 49.90364017,  0.        , 81.44265629,\n",
       "         0.        ,  0.        , 50.03423635, 46.93824059,  0.        ,\n",
       "         0.        ,  0.        , 55.03394738,  0.        ,  0.        ,\n",
       "         0.        , 61.82476252,  0.        ,  0.        , 42.10110678,\n",
       "        95.52379583,  6.65725234,  0.        , 57.87639328,  0.        ,\n",
       "        58.303445  ,  2.13988153,  0.        ,  0.        , 70.80503783,\n",
       "         0.        , 70.8701651 ,  0.        , 57.42601274, 50.97678929,\n",
       "        59.40333809, 31.65874542, 52.49685216,  0.        ,  0.        ,\n",
       "        55.75382307,  0.        ,  0.        , 84.73207473,  0.        ,\n",
       "         0.        , 54.91754346, 58.157659  ,  0.        , 51.05415333,\n",
       "         0.        , 25.12709455,  0.        ,  0.        ,  0.        ,\n",
       "        69.55871508,  0.        , 65.24896559,  0.        , 55.99601844,\n",
       "         0.        , 78.5320077 , 79.6664547 ,  0.        ,  0.        ]),\n",
       " array([48.89044152, -0.        ,  0.        , 10.15594999,  0.        ,\n",
       "        -0.        , -0.        , 48.80596783,  0.        , 80.40122807,\n",
       "        -0.        ,  0.        , 49.00727642, 45.88949499,  0.        ,\n",
       "         0.        ,  0.        , 54.01137309, -0.        , -0.        ,\n",
       "         0.        , 60.51526143, -0.        ,  0.        , 41.11635609,\n",
       "        94.50840242,  5.45876781, -0.        , 56.9680961 ,  0.        ,\n",
       "        57.30282896,  1.1260068 ,  0.        , -0.        , 69.59515421,\n",
       "         0.        , 69.85359134,  0.        , 56.45048947, 49.80144606,\n",
       "        57.88236377, 30.75671494, 51.43903358,  0.        , -0.        ,\n",
       "        54.59898014,  0.        ,  0.        , 83.74485756, -0.        ,\n",
       "        -0.        , 53.87890321, 56.93261042, -0.        , 49.88085816,\n",
       "        -0.        , 23.67502975, -0.        , -0.        , -0.        ,\n",
       "        68.38972289, -0.        , 64.49490862, -0.        , 54.81873093,\n",
       "        -0.        , 77.60672742, 78.26197506,  0.        ,  0.        ]))"
      ]
     },
     "execution_count": 9,
     "metadata": {},
     "output_type": "execute_result"
    }
   ],
   "source": [
    "Nesterov_accelerated.get_coef(),coef,las.coef_"
   ]
  }
 ],
 "metadata": {
  "kernelspec": {
   "display_name": "Python 3",
   "language": "python",
   "name": "python3"
  },
  "language_info": {
   "codemirror_mode": {
    "name": "ipython",
    "version": 3
   },
   "file_extension": ".py",
   "mimetype": "text/x-python",
   "name": "python",
   "nbconvert_exporter": "python",
   "pygments_lexer": "ipython3",
   "version": "3.8.8"
  }
 },
 "nbformat": 4,
 "nbformat_minor": 5
}
