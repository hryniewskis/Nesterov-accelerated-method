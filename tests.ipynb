{
 "cells": [
  {
   "cell_type": "code",
   "execution_count": 8,
   "id": "1074f389",
   "metadata": {},
   "outputs": [
    {
     "name": "stdout",
     "output_type": "stream",
     "text": [
      "The autoreload extension is already loaded. To reload it, use:\n",
      "  %reload_ext autoreload\n"
     ]
    }
   ],
   "source": [
    "%load_ext autoreload\n",
    "%autoreload 2\n",
    "from optimizers import Nesterov_Optimizers\n",
    "\n",
    "import numpy as np\n",
    "from sklearn import datasets\n",
    "from sklearn.metrics import mean_squared_error\n",
    "from sklearn.linear_model import Lasso\n",
    "from sklearn.model_selection import train_test_split\n",
    "\n",
    "n_samples=4000\n",
    "n_features=700\n",
    "X, y, coef = datasets.make_regression(n_samples = n_samples,#number of samples\n",
    "                                      n_features = n_features,#number of features\n",
    "                                      n_informative = 62,#number of useful features\n",
    "                                      noise = 10,#bias and standard deviation of the guassian noise\n",
    "                                      coef = True,#true coefficient used to generated the data\n",
    "                                      random_state = 0)"
   ]
  },
  {
   "cell_type": "code",
   "execution_count": 2,
   "id": "8e9a490d",
   "metadata": {},
   "outputs": [],
   "source": [
    "X_train, X_test, y_train, y_test = train_test_split(X,y,test_size=0.3)"
   ]
  },
  {
   "cell_type": "code",
   "execution_count": 3,
   "id": "d148835a",
   "metadata": {
    "scrolled": false
   },
   "outputs": [
    {
     "name": "stdout",
     "output_type": "stream",
     "text": [
      "630293.8794451231 73455.2089744644 609912.604876517\n",
      "367276.28804065805 71786.4097677671 351742.15422737174\n",
      "189359.24984552755 68348.65412100694 180205.9380387927\n",
      "52360.50290714849 51807.55653357914 49911.73746819274\n",
      "27570.35817475108 35166.35463074967 21725.937890271725\n",
      "22751.312360348005 27212.103159670478 20788.963338396283\n",
      "20779.78779248525 26842.736441920002 17301.641970168195\n",
      "22734.132996879376 27017.24297136938 8193.449181832722\n",
      "27584.43374103319 27808.858485624296 1867.08327740713\n",
      "30437.455702504696 28387.482689183482 3578.2712869626735\n",
      "30574.975092552555 28446.352736146633 3572.873393148395\n",
      "28342.045939405027 28015.995847653878 837.232084356672\n",
      "28032.536444312427 27964.39357997939 385.8021901716827\n",
      "27831.69655976745 27925.471095216828 447.46635166133836\n",
      "27843.95394393376 27920.19030464335 213.31268697582934\n",
      "27891.39833169421 27926.392485090877 105.5309534901909\n",
      "27909.70054927389 27928.208257485294 95.70938618395317\n",
      "27932.00935805169 27932.264891485655 75.61298027396042\n",
      "27948.116723986655 27935.929729117124 69.70368373612365\n",
      "27954.265836236325 27937.82026598416 72.71260634852841\n",
      "27952.28078403747 27937.900436605916 71.15788431919124\n",
      "27946.593943596432 27936.93605501165 66.63002675277508\n",
      "27941.290413648007 27935.8152079163 63.73021906352621\n",
      "27938.5038105753 27935.10419505805 62.255346350387704\n",
      "27938.328554662603 27934.93847139586 60.40947634513272\n",
      "27939.652043121238 27935.150245765333 58.12846829147255\n",
      "27941.160083493563 27935.474145303513 56.088825364389294\n",
      "27942.008781716315 27935.707906696225 54.404802751032555\n",
      "27942.007718063196 27935.77655139465 52.83454755649467\n",
      "27941.434515357254 27935.71217224846 51.29588285205578\n",
      "27940.71526185486 27935.593973355244 49.85069787559922\n",
      "27940.169893497867 27935.492414861226 48.51751275572836\n",
      "27939.910676183863 27935.44095294692 47.25908651815369\n",
      "27939.876498581623 27935.436447810425 46.05233747961299\n",
      "27939.931608863164 27935.45595413036 44.90073340162556\n",
      "27939.957772333408 27935.475434964937 43.80810796566755\n",
      "27939.90086424637 27935.481144320533 42.769421383188785\n",
      "27939.769345938395 27935.471588247645 41.77868559147233\n",
      "27939.604856414382 27935.453096818812 40.83313776579971\n",
      "27939.449585779967 27935.433671548086 39.93071667863802\n",
      "27937.769334999884 27935.26262456475 25.709428582454645\n",
      "27935.67699599572 27935.08650922975 5.822144286524863\n",
      "27934.48663259784 27935.026827768863 7.712687670297119\n",
      "27934.282965951563 27935.047197477605 11.440105392357706\n",
      "27934.592356385405 27935.07346726037 8.15392464930264\n",
      "27935.067814168313 27935.058822665073 0.7231402814626329\n",
      "27935.119483081806 27935.025576138705 2.166621250927953\n",
      "27934.988391508894 27935.003603859488 1.306648211887969\n",
      "27935.011114098288 27935.019688062006 0.662999462062841\n",
      "27935.094287592143 27935.04028014271 0.6628738970942933\n",
      "27935.103206734988 27935.048680471413 0.45334608731439735\n",
      "27935.075446912047 27935.048303347106 0.23551576192205456\n",
      "27935.041412357958 27935.041508444137 0.13415967378777444\n",
      "27935.028098480696 27935.038819402904 0.18496882951187188\n",
      "27935.02743169581 27935.037372578023 0.1406846591185844\n",
      "27935.03231193599 27935.036822974154 0.05612795702350597\n",
      "27935.037143863516 27935.037090469097 0.028933047554642863\n",
      "27935.036599346393 27935.037068935777 0.027434913416154644\n",
      "27935.039893110392 27935.03775594007 0.038565591722404716\n",
      "27935.040319825854 27935.03810470404 0.029297535703792142\n",
      "27935.039334941244 27935.03819922225 0.011571114797220184\n",
      "27935.03808651727 27935.038068469297 0.005798676574401501\n",
      "27935.037603415294 27935.038017642666 0.011245212256191291\n",
      "27935.037567144445 27935.037958918867 0.009597027938327238\n",
      "27935.03771474982 27935.03789791905 0.004167224553117064\n",
      "27935.037851893274 27935.037855232393 0.001278281691471898\n",
      "27935.03781417627 27935.037840150017 0.0018072121579255156\n",
      "27935.037948842022 27935.03786447954 0.002644939452316269\n",
      "27935.037977290154 27935.037886912483 0.001992469030233043\n",
      "27935.037951048136 27935.037903286353 0.0007176704888085552\n",
      "27935.03790751344 27935.037906495254 0.0003827105716117188\n",
      "27935.037913180175 27935.037907232505 0.0004152102994772528\n",
      "27935.03788350756 27935.03790090954 0.0005781169504742158\n",
      "27935.037876862683 27935.03789565717 0.00042761644707772637\n",
      "27935.03788235359 27935.03789230332 0.00015459557484462765\n",
      "27935.037892098473 27935.037892299108 8.802304252160292e-05\n",
      "accelerated  early stopping at  75\n",
      "Wall time: 55 s\n"
     ]
    }
   ],
   "source": [
    "%%time\n",
    "Nesterov_accelerated = Nesterov_Optimizers()#gamma_u=1.9,gamma_d=2.5,lambda_=18)\n",
    "Nesterov_accelerated.fit(X_train,y_train, method=\"accelerated\",verbose=True)"
   ]
  },
  {
   "cell_type": "code",
   "execution_count": 4,
   "id": "320db0cb",
   "metadata": {
    "scrolled": false
   },
   "outputs": [
    {
     "name": "stdout",
     "output_type": "stream",
     "text": [
      "630293.8794451231 73455.2089744644 609912.604876517\n",
      "194732.72065141326 71435.07248012703 228250.6174071913\n",
      "124555.94887851368 65876.76860413318 120445.563699045\n",
      "56418.99144260532 56477.00254192102 67901.90905886544\n",
      "50430.27285230107 42981.26177688877 33887.83244728364\n",
      "34185.915599157306 30510.57365319254 10113.96278010256\n",
      "29489.015685370843 28272.854878214832 2449.5651175753787\n",
      "28267.35084629064 28006.12257917312 677.7543067650491\n",
      "28021.09823769348 27953.11708451879 198.4752949462577\n",
      "27958.13187989807 27939.83062769306 60.0498346736389\n",
      "27941.379166439645 27936.33832716002 18.655740488889432\n",
      "27936.79919488314 27935.394397285276 5.931611185935208\n",
      "27935.529485402636 27935.135855587843 1.92588828451245\n",
      "27935.17501647194 27935.06468312349 0.6375414133864896\n",
      "27935.07588823616 27935.045122517073 0.2149363545028207\n",
      "27935.048270409327 27935.0397952476 0.07372931270577805\n",
      "27935.040654856253 27935.03837168346 0.025711246608924695\n",
      "27935.038595707756 27935.038004223163 0.009106207091436879\n",
      "27935.038057851078 27935.037915215704 0.003271756509633995\n",
      "27935.037925853117 27935.03789630363 0.001190875529551137\n",
      "27935.037897309016 27935.037893544504 0.0004384754591234997\n",
      "27935.037892971384 27935.03789382016 0.00016305957940874306\n",
      "27935.037893299184 27935.03789432343 6.115265573002694e-05\n",
      "gradient  early stopping at  22\n",
      "Wall time: 8.88 s\n"
     ]
    }
   ],
   "source": [
    "%%time\n",
    "Nesterov = Nesterov_Optimizers()#gamma_u=1.9,gamma_d=2.5,lambda_=18)\n",
    "Nesterov.fit(X_train,y_train,method=\"gradient\",verbose=True)"
   ]
  },
  {
   "cell_type": "code",
   "execution_count": 9,
   "id": "49d0a89d",
   "metadata": {
    "scrolled": false
   },
   "outputs": [
    {
     "name": "stdout",
     "output_type": "stream",
     "text": [
      "630293.8794451231 73455.2089744644 609912.604876517\n",
      "194732.72065141326 71435.07248012703 228250.6174071913\n",
      "125800.84818221098 65875.5795176124 121299.58813719096\n",
      "56102.96967901574 55804.15840156582 66171.0613618869\n",
      "49444.427145796864 42617.04985187616 33064.987437489086\n",
      "34140.526737942506 30395.907613508676 9773.753347878106\n",
      "29572.810789383373 28286.460370950568 2529.8493166407\n",
      "28436.826428741475 28036.07645672154 1092.0328904247183\n",
      "28065.268015842572 27959.4755787595 323.1318461493005\n",
      "27970.970354454326 27941.31653566923 96.38089851366824\n",
      "27945.43867960755 27936.727822487253 30.117712877703603\n",
      "27938.124478060527 27935.502062719286 9.745416304620989\n",
      "27935.97222391978 27935.166918152023 3.2457702712474976\n",
      "27935.32557080333 27935.07401306874 1.1082886980274547\n",
      "27935.127908751092 27935.04805279066 0.3867411968714142\n",
      "27935.06650129372 27935.040759965108 0.13752165196339167\n",
      "27935.047125478755 27935.038704422834 0.04969764604244503\n",
      "27935.040918135357 27935.038123869926 0.018206581222367294\n",
      "27935.03889961511 27935.03795972349 0.006746284263152806\n",
      "27935.038233553754 27935.037913284243 0.0025233571512585204\n",
      "27935.038010614822 27935.037900136576 0.000951107411159712\n",
      "27935.03793495899 27935.03789640774 0.000360742299589839\n",
      "27935.037908943334 27935.03789534565 0.0001375216770910778\n",
      "27935.037899884515 27935.03789504039 5.2642637462957734e-05\n",
      "dual_gradient  early stopping at  23\n",
      "Wall time: 9.54 s\n"
     ]
    }
   ],
   "source": [
    "%%time\n",
    "Nesterov_dual = Nesterov_Optimizers()#gamma_u=1.9,gamma_d=2.5,lambda_=18)\n",
    "Nesterov_dual.fit(X_train,y_train,method=\"dual_gradient\",verbose=True)"
   ]
  },
  {
   "cell_type": "code",
   "execution_count": 6,
   "id": "12f47dfa",
   "metadata": {
    "scrolled": true
   },
   "outputs": [
    {
     "name": "stdout",
     "output_type": "stream",
     "text": [
      "Wall time: 90.9 ms\n"
     ]
    },
    {
     "data": {
      "text/html": [
       "<style>#sk-container-id-1 {color: black;background-color: white;}#sk-container-id-1 pre{padding: 0;}#sk-container-id-1 div.sk-toggleable {background-color: white;}#sk-container-id-1 label.sk-toggleable__label {cursor: pointer;display: block;width: 100%;margin-bottom: 0;padding: 0.3em;box-sizing: border-box;text-align: center;}#sk-container-id-1 label.sk-toggleable__label-arrow:before {content: \"▸\";float: left;margin-right: 0.25em;color: #696969;}#sk-container-id-1 label.sk-toggleable__label-arrow:hover:before {color: black;}#sk-container-id-1 div.sk-estimator:hover label.sk-toggleable__label-arrow:before {color: black;}#sk-container-id-1 div.sk-toggleable__content {max-height: 0;max-width: 0;overflow: hidden;text-align: left;background-color: #f0f8ff;}#sk-container-id-1 div.sk-toggleable__content pre {margin: 0.2em;color: black;border-radius: 0.25em;background-color: #f0f8ff;}#sk-container-id-1 input.sk-toggleable__control:checked~div.sk-toggleable__content {max-height: 200px;max-width: 100%;overflow: auto;}#sk-container-id-1 input.sk-toggleable__control:checked~label.sk-toggleable__label-arrow:before {content: \"▾\";}#sk-container-id-1 div.sk-estimator input.sk-toggleable__control:checked~label.sk-toggleable__label {background-color: #d4ebff;}#sk-container-id-1 div.sk-label input.sk-toggleable__control:checked~label.sk-toggleable__label {background-color: #d4ebff;}#sk-container-id-1 input.sk-hidden--visually {border: 0;clip: rect(1px 1px 1px 1px);clip: rect(1px, 1px, 1px, 1px);height: 1px;margin: -1px;overflow: hidden;padding: 0;position: absolute;width: 1px;}#sk-container-id-1 div.sk-estimator {font-family: monospace;background-color: #f0f8ff;border: 1px dotted black;border-radius: 0.25em;box-sizing: border-box;margin-bottom: 0.5em;}#sk-container-id-1 div.sk-estimator:hover {background-color: #d4ebff;}#sk-container-id-1 div.sk-parallel-item::after {content: \"\";width: 100%;border-bottom: 1px solid gray;flex-grow: 1;}#sk-container-id-1 div.sk-label:hover label.sk-toggleable__label {background-color: #d4ebff;}#sk-container-id-1 div.sk-serial::before {content: \"\";position: absolute;border-left: 1px solid gray;box-sizing: border-box;top: 0;bottom: 0;left: 50%;z-index: 0;}#sk-container-id-1 div.sk-serial {display: flex;flex-direction: column;align-items: center;background-color: white;padding-right: 0.2em;padding-left: 0.2em;position: relative;}#sk-container-id-1 div.sk-item {position: relative;z-index: 1;}#sk-container-id-1 div.sk-parallel {display: flex;align-items: stretch;justify-content: center;background-color: white;position: relative;}#sk-container-id-1 div.sk-item::before, #sk-container-id-1 div.sk-parallel-item::before {content: \"\";position: absolute;border-left: 1px solid gray;box-sizing: border-box;top: 0;bottom: 0;left: 50%;z-index: -1;}#sk-container-id-1 div.sk-parallel-item {display: flex;flex-direction: column;z-index: 1;position: relative;background-color: white;}#sk-container-id-1 div.sk-parallel-item:first-child::after {align-self: flex-end;width: 50%;}#sk-container-id-1 div.sk-parallel-item:last-child::after {align-self: flex-start;width: 50%;}#sk-container-id-1 div.sk-parallel-item:only-child::after {width: 0;}#sk-container-id-1 div.sk-dashed-wrapped {border: 1px dashed gray;margin: 0 0.4em 0.5em 0.4em;box-sizing: border-box;padding-bottom: 0.4em;background-color: white;}#sk-container-id-1 div.sk-label label {font-family: monospace;font-weight: bold;display: inline-block;line-height: 1.2em;}#sk-container-id-1 div.sk-label-container {text-align: center;}#sk-container-id-1 div.sk-container {/* jupyter's `normalize.less` sets `[hidden] { display: none; }` but bootstrap.min.css set `[hidden] { display: none !important; }` so we also need the `!important` here to be able to override the default hidden behavior on the sphinx rendered scikit-learn.org. See: https://github.com/scikit-learn/scikit-learn/issues/21755 */display: inline-block !important;position: relative;}#sk-container-id-1 div.sk-text-repr-fallback {display: none;}</style><div id=\"sk-container-id-1\" class=\"sk-top-container\"><div class=\"sk-text-repr-fallback\"><pre>Lasso()</pre><b>In a Jupyter environment, please rerun this cell to show the HTML representation or trust the notebook. <br />On GitHub, the HTML representation is unable to render, please try loading this page with nbviewer.org.</b></div><div class=\"sk-container\" hidden><div class=\"sk-item\"><div class=\"sk-estimator sk-toggleable\"><input class=\"sk-toggleable__control sk-hidden--visually\" id=\"sk-estimator-id-1\" type=\"checkbox\" checked><label for=\"sk-estimator-id-1\" class=\"sk-toggleable__label sk-toggleable__label-arrow\">Lasso</label><div class=\"sk-toggleable__content\"><pre>Lasso()</pre></div></div></div></div></div>"
      ],
      "text/plain": [
       "Lasso()"
      ]
     },
     "execution_count": 6,
     "metadata": {},
     "output_type": "execute_result"
    }
   ],
   "source": [
    "%%time\n",
    "las = Lasso()\n",
    "las.fit(X_train, y_train)"
   ]
  },
  {
   "cell_type": "code",
   "execution_count": 7,
   "id": "45af64bd",
   "metadata": {},
   "outputs": [
    {
     "ename": "ValueError",
     "evalue": "Model isn't trained",
     "output_type": "error",
     "traceback": [
      "\u001B[1;31m---------------------------------------------------------------------------\u001B[0m",
      "\u001B[1;31mValueError\u001B[0m                                Traceback (most recent call last)",
      "\u001B[1;32m<ipython-input-7-4cdbcdec68bb>\u001B[0m in \u001B[0;36m<module>\u001B[1;34m\u001B[0m\n\u001B[0;32m      1\u001B[0m print(mean_squared_error(y_test,Nesterov_accelerated.predict(X_test)),\n\u001B[0;32m      2\u001B[0m \u001B[0mmean_squared_error\u001B[0m\u001B[1;33m(\u001B[0m\u001B[0my_test\u001B[0m\u001B[1;33m,\u001B[0m\u001B[0mNesterov\u001B[0m\u001B[1;33m.\u001B[0m\u001B[0mpredict\u001B[0m\u001B[1;33m(\u001B[0m\u001B[0mX_test\u001B[0m\u001B[1;33m)\u001B[0m\u001B[1;33m)\u001B[0m\u001B[1;33m,\u001B[0m\u001B[1;33m\u001B[0m\u001B[1;33m\u001B[0m\u001B[0m\n\u001B[1;32m----> 3\u001B[1;33m \u001B[0mmean_squared_error\u001B[0m\u001B[1;33m(\u001B[0m\u001B[0my_test\u001B[0m\u001B[1;33m,\u001B[0m\u001B[0mNesterov_dual\u001B[0m\u001B[1;33m.\u001B[0m\u001B[0mpredict\u001B[0m\u001B[1;33m(\u001B[0m\u001B[0mX_test\u001B[0m\u001B[1;33m)\u001B[0m\u001B[1;33m)\u001B[0m\u001B[1;33m,\u001B[0m\u001B[1;33m\u001B[0m\u001B[1;33m\u001B[0m\u001B[0m\n\u001B[0m\u001B[0;32m      4\u001B[0m mean_squared_error(y_test,las.predict(X_test)))\n",
      "\u001B[1;32m~\\Jupyter\\ODA\\ODA_Project\\optimizers.py\u001B[0m in \u001B[0;36mpredict\u001B[1;34m(self, X)\u001B[0m\n\u001B[0;32m    186\u001B[0m             \u001B[1;32mreturn\u001B[0m \u001B[0mnp\u001B[0m\u001B[1;33m.\u001B[0m\u001B[0mdot\u001B[0m\u001B[1;33m(\u001B[0m\u001B[0mX\u001B[0m\u001B[1;33m,\u001B[0m \u001B[0mself\u001B[0m\u001B[1;33m.\u001B[0m\u001B[0mcoef_\u001B[0m\u001B[1;33m)\u001B[0m\u001B[1;33m\u001B[0m\u001B[1;33m\u001B[0m\u001B[0m\n\u001B[0;32m    187\u001B[0m         \u001B[1;32melse\u001B[0m\u001B[1;33m:\u001B[0m\u001B[1;33m\u001B[0m\u001B[1;33m\u001B[0m\u001B[0m\n\u001B[1;32m--> 188\u001B[1;33m             \u001B[1;32mraise\u001B[0m \u001B[0mValueError\u001B[0m\u001B[1;33m(\u001B[0m\u001B[1;34m\"Model isn't trained\"\u001B[0m\u001B[1;33m)\u001B[0m\u001B[1;33m\u001B[0m\u001B[1;33m\u001B[0m\u001B[0m\n\u001B[0m\u001B[0;32m    189\u001B[0m \u001B[1;33m\u001B[0m\u001B[0m\n\u001B[0;32m    190\u001B[0m     \u001B[1;32mdef\u001B[0m \u001B[0mget_coef\u001B[0m\u001B[1;33m(\u001B[0m\u001B[0mself\u001B[0m\u001B[1;33m)\u001B[0m\u001B[1;33m:\u001B[0m\u001B[1;33m\u001B[0m\u001B[1;33m\u001B[0m\u001B[0m\n",
      "\u001B[1;31mValueError\u001B[0m: Model isn't trained"
     ]
    }
   ],
   "source": [
    "print(mean_squared_error(y_test,Nesterov_accelerated.predict(X_test)),\n",
    "mean_squared_error(y_test,Nesterov.predict(X_test)),\n",
    "mean_squared_error(y_test,Nesterov_dual.predict(X_test)),\n",
    "mean_squared_error(y_test,las.predict(X_test)))"
   ]
  },
  {
   "cell_type": "code",
   "execution_count": null,
   "id": "b37853b3",
   "metadata": {
    "scrolled": false
   },
   "outputs": [],
   "source": [
    "Nesterov_accelerated.get_coef(),las.coef_"
   ]
  },
  {
   "cell_type": "code",
   "execution_count": null,
   "id": "038d6f1d",
   "metadata": {},
   "outputs": [],
   "source": [
    "res_lasso=np.linalg.norm(las.coef_-coef,ord=1)\n",
    "res_basic=np.linalg.norm(Nesterov.get_coef()-coef,ord=1)\n",
    "res_dual=np.linalg.norm(Nesterov_dual.get_coef()-coef,ord=1)\n",
    "res_acc=np.linalg.norm(Nesterov_accelerated.get_coef()-coef,ord=1)\n",
    "#res_acc\n",
    "print(\"gradient method:     \",  res_basic,\n",
    "      \"\\ndual gradient method:\",res_dual,\n",
    "      \"\\naccelerated method:  \",res_acc,\n",
    "      \"\\nlasso from sklearn:  \",res_lasso)"
   ]
  },
  {
   "cell_type": "code",
   "execution_count": null,
   "id": "ae345575",
   "metadata": {},
   "outputs": [],
   "source": [
    "np.array([[1,2],[0,0],[1000,1]])*np.array([1,10])"
   ]
  }
 ],
 "metadata": {
  "kernelspec": {
   "display_name": "Python 3",
   "language": "python",
   "name": "python3"
  },
  "language_info": {
   "codemirror_mode": {
    "name": "ipython",
    "version": 3
   },
   "file_extension": ".py",
   "mimetype": "text/x-python",
   "name": "python",
   "nbconvert_exporter": "python",
   "pygments_lexer": "ipython3",
   "version": "3.8.8"
  }
 },
 "nbformat": 4,
 "nbformat_minor": 5
}