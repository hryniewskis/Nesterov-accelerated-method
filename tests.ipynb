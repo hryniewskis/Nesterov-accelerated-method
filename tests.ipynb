{
 "cells": [
  {
   "cell_type": "code",
   "execution_count": 55,
   "id": "1074f389",
   "metadata": {
    "scrolled": true
   },
   "outputs": [
    {
     "name": "stdout",
     "output_type": "stream",
     "text": [
      "The autoreload extension is already loaded. To reload it, use:\n",
      "  %reload_ext autoreload\n"
     ]
    }
   ],
   "source": [
    "%load_ext autoreload\n",
    "%autoreload 2\n",
    "from optimizers import Nesterov_Optimizers\n",
    "\n",
    "import numpy as np\n",
    "from sklearn import datasets\n",
    "from sklearn.linear_model import Lasso\n",
    "\n",
    "n_samples=10000\n",
    "n_features=50\n",
    "X, y, coef = datasets.make_regression(n_samples = n_samples,#number of samples\n",
    "                                      n_features = n_features,#number of features\n",
    "                                      n_informative = 25,#number of useful features\n",
    "                                      noise = 10,#bias and standard deviation of the guassian noise\n",
    "                                      coef = True,#true coefficient used to generated the data\n",
    "                                      random_state = 0)"
   ]
  },
  {
   "cell_type": "code",
   "execution_count": 71,
   "id": "d148835a",
   "metadata": {
    "scrolled": false
   },
   "outputs": [
    {
     "name": "stdout",
     "output_type": "stream",
     "text": [
      "0 4.0047726045719636e-06\n",
      "1 1.0941242228450549e-05\n",
      "2 2.5432931144735762e-05\n",
      "3 5.539267586659345e-05\n",
      "4 0.00011667352871581643\n",
      "5 0.00024108258961801608\n",
      "6 0.0004923844497718458\n",
      "7 0.000998314459278398\n",
      "7 0.0006369410554434504\n",
      "8 0.0011928310994235541\n",
      "8 0.0007778580631815935\n",
      "9 0.001385826944902151\n",
      "9 0.0009164967389623877\n",
      "10 0.0015775264831061494\n",
      "10 0.0010535658165267297\n",
      "11 0.0017681567427900642\n",
      "11 0.0011894839865505432\n",
      "12 0.0019579037513828288\n",
      "12 0.0013245202566575535\n",
      "13 0.0021469138944143116\n",
      "13 0.0014588581869246506\n",
      "14 0.0023353020559054383\n",
      "14 0.001592628851543056\n",
      "15 0.002523159169264709\n",
      "15 0.0017259292343979667\n",
      "16 0.0027105580674110594\n",
      "16 0.0018588331798866271\n",
      "17 0.002897557813146663\n",
      "17 0.00199139825497881\n",
      "18 0.0030842068774128485\n",
      "18 0.002123670232774302\n",
      "19 0.0032705454831110075\n",
      "19 0.002255686125686377\n",
      "Wall time: 213 ms\n"
     ]
    }
   ],
   "source": [
    "%%time\n",
    "Nesterov_accelerated = Nesterov_Optimizers(max_iter=20).fit(X,y,method=\"accelerated\")"
   ]
  },
  {
   "cell_type": "code",
   "execution_count": 57,
   "id": "a279461f",
   "metadata": {
    "scrolled": true
   },
   "outputs": [],
   "source": [
    "# %%time\n",
    "# Nesterov = Nesterov_Optimizers().fit(X,y,method=\"gradient\")"
   ]
  },
  {
   "cell_type": "code",
   "execution_count": 58,
   "id": "ff421fa9",
   "metadata": {
    "scrolled": true
   },
   "outputs": [],
   "source": [
    "# %%time\n",
    "# Nesterov_dual = Nesterov_Optimizers().fit(X,y,method=\"dual_gradient\")"
   ]
  },
  {
   "cell_type": "code",
   "execution_count": 59,
   "id": "6903b56a",
   "metadata": {},
   "outputs": [],
   "source": [
    "# %%time\n",
    "# Nesterov_dual = Nesterov_Optimizers().fit(X,y,method=\"accelerated\")"
   ]
  },
  {
   "cell_type": "code",
   "execution_count": 60,
   "id": "7aebb334",
   "metadata": {
    "scrolled": false
   },
   "outputs": [],
   "source": [
    "# %%time\n",
    "# las = Lasso(alpha=1./n_samples).fit(X, y)"
   ]
  },
  {
   "cell_type": "code",
   "execution_count": 72,
   "id": "5b93c041",
   "metadata": {
    "scrolled": false
   },
   "outputs": [],
   "source": [
    "# res_lasso=np.linalg.norm(las.coef_-coef,ord=1)\n",
    "# res_basic=np.linalg.norm(Nesterov-coef,ord=1)\n",
    "# res_dual=np.linalg.norm(Nesterov_dual-coef,ord=1)\n",
    "res_acc=np.linalg.norm(Nesterov_accelerated-coef,ord=1)\n",
    "# print(\"gradient method:     \",  res_basic,\n",
    "#       \"\\ndual gradient method:\",res_dual,\n",
    "#       \"\\naccelerated method:  \",res_acc,\n",
    "#       \"\\nlasso from sklearn:  \",res_lasso)"
   ]
  },
  {
   "cell_type": "code",
   "execution_count": 73,
   "id": "3e470fc9",
   "metadata": {
    "scrolled": true
   },
   "outputs": [
    {
     "data": {
      "text/plain": [
       "(array([-1.15494885e+126, -2.07093282e+125,  6.13097184e+125,\n",
       "        -7.02315914e+125,  3.24085718e+126,  1.21937534e+126,\n",
       "        -6.66404503e+125, -8.42490251e+125, -5.11508776e+125,\n",
       "         7.65344653e+125,  3.05567782e+125,  2.42383286e+126,\n",
       "         1.49748322e+126, -2.16815091e+126,  1.76596312e+126,\n",
       "         7.88222934e+125,  3.27340966e+125, -3.45307745e+126,\n",
       "        -2.64931163e+126, -1.17182114e+126,  6.76540982e+125,\n",
       "         9.55955417e+125,  3.51554653e+126,  2.16630350e+125,\n",
       "         7.50541006e+125,  9.30845143e+125,  1.64316567e+126,\n",
       "        -1.84027047e+126, -9.49398871e+125,  2.42520784e+125,\n",
       "        -8.73057370e+125,  1.67131755e+126, -9.84680586e+125,\n",
       "         1.41646813e+126,  1.73827159e+126,  8.74696371e+125,\n",
       "        -1.46331061e+126, -2.88738227e+125, -3.05669179e+126,\n",
       "         1.94872284e+126,  1.17820514e+126, -4.57982004e+125,\n",
       "        -1.47092823e+125,  8.76988251e+125,  1.15446153e+126,\n",
       "         3.77249599e+125,  2.89825060e+126, -2.43342010e+126,\n",
       "        -4.64192277e+125, -2.92107017e+124]),\n",
       " 6.252863127049454e+127)"
      ]
     },
     "execution_count": 73,
     "metadata": {},
     "output_type": "execute_result"
    }
   ],
   "source": [
    "Nesterov_accelerated,res_acc"
   ]
  },
  {
   "cell_type": "code",
   "execution_count": 74,
   "id": "6a7309f1",
   "metadata": {},
   "outputs": [
    {
     "data": {
      "text/plain": [
       "array([ 9.64605732,  0.        ,  0.        ,  0.        , 98.51251317,\n",
       "       48.69130765,  0.        , 12.20519782,  0.        ,  0.        ,\n",
       "        0.        ,  0.        ,  0.        ,  0.        , 63.17656201,\n",
       "        4.0526245 ,  0.        ,  0.        , 39.88950065, 52.97835666,\n",
       "       72.0032717 , 90.34476523, 55.81769761, 85.08557546,  0.        ,\n",
       "        0.        ,  0.        , 41.75001761, 75.93743416,  0.        ,\n",
       "        0.        , 98.04968768,  0.        , 11.54166467,  0.        ,\n",
       "       79.6198366 ,  3.80091364, 30.05905929,  0.        , 25.98299801,\n",
       "       93.70789978,  0.        , 99.00583566, 78.4942892 ,  0.        ,\n",
       "       71.10262325,  0.        ,  0.        , 24.61963912,  0.        ])"
      ]
     },
     "execution_count": 74,
     "metadata": {},
     "output_type": "execute_result"
    }
   ],
   "source": [
    "coef"
   ]
  }
 ],
 "metadata": {
  "kernelspec": {
   "display_name": "Python 3",
   "language": "python",
   "name": "python3"
  },
  "language_info": {
   "codemirror_mode": {
    "name": "ipython",
    "version": 3
   },
   "file_extension": ".py",
   "mimetype": "text/x-python",
   "name": "python",
   "nbconvert_exporter": "python",
   "pygments_lexer": "ipython3",
   "version": "3.8.8"
  }
 },
 "nbformat": 4,
 "nbformat_minor": 5
}
